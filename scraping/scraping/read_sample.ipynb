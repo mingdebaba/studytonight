{
 "cells": [
  {
   "cell_type": "code",
   "execution_count": 2,
   "metadata": {},
   "outputs": [],
   "source": [
    "## reading content from the file\n",
    "with open(\"sample.html\") as html_file:\n",
    "    html = html_file.read()"
   ]
  },
  {
   "cell_type": "code",
   "execution_count": 3,
   "metadata": {},
   "outputs": [],
   "source": [
    "import bs4\n",
    "\n",
    "soup = bs4.BeautifulSoup(html, \"html.parser\")"
   ]
  },
  {
   "cell_type": "code",
   "execution_count": 7,
   "metadata": {},
   "outputs": [
    {
     "name": "stdout",
     "output_type": "stream",
     "text": [
      "<bound method Tag.prettify of <!DOCTYPE html>\n",
      "\n",
      "<html>\n",
      "<head>\n",
      "<title> Sample HTML Page</title>\n",
      "<style>\n",
      "            * {\n",
      "                margin: 0;\n",
      "                padding: 0;\n",
      "            }\n",
      "\n",
      "            div {\n",
      "                width: 95%;\n",
      "                height: 75px;\n",
      "                margin: 10px 2.5%;\n",
      "                border: 1px dotted grey;\n",
      "                text-align: center;\n",
      "            }\n",
      "              \n",
      "            p {\n",
      "                font-family: sans-serif;\n",
      "                font-size: 18px;\n",
      "                color: #000;\n",
      "                line-height: 75px;\n",
      "            }\n",
      "\n",
      "            a {\n",
      "                position: relative;\n",
      "                top: 25px;\n",
      "            }\n",
      "        </style>\n",
      "</head>\n",
      "<body>\n",
      "<div id=\"first-div\">\n",
      "<p class=\"first\">First Paragraph</p>\n",
      "</div>\n",
      "<div id=\"second-div\">\n",
      "<p class=\"second\">Second Paragraph</p>\n",
      "</div>\n",
      "<div id=\"third-div\">\n",
      "<a href=\"https://www.studytonight.com\">Studytonight</a>\n",
      "<p class=\"third\">Third Paragraph</p>\n",
      "</div>\n",
      "<div id=\"fourth-div\">\n",
      "<p class=\"fourth\">Fourth Paragraph</p>\n",
      "</div>\n",
      "<div id=\"fifth-div\">\n",
      "<p class=\"fifth\">Fifth Paragraph</p>\n",
      "</div>\n",
      "</body>\n",
      "</html>>\n"
     ]
    }
   ],
   "source": [
    "print(soup.prettify)"
   ]
  },
  {
   "cell_type": "code",
   "execution_count": 12,
   "metadata": {},
   "outputs": [],
   "source": [
    "body = soup.body"
   ]
  },
  {
   "cell_type": "code",
   "execution_count": 5,
   "metadata": {},
   "outputs": [],
   "source": [
    "link = soup.a"
   ]
  },
  {
   "cell_type": "code",
   "execution_count": 10,
   "metadata": {},
   "outputs": [
    {
     "name": "stdout",
     "output_type": "stream",
     "text": [
      "https://www.studytonight.com\n"
     ]
    }
   ],
   "source": [
    "print(link[\"href\"])"
   ]
  },
  {
   "cell_type": "code",
   "execution_count": 13,
   "metadata": {},
   "outputs": [],
   "source": [
    "## getting all the children of 'body' using 'contents'\n",
    "content_list = body.contents"
   ]
  },
  {
   "cell_type": "code",
   "execution_count": 14,
   "metadata": {},
   "outputs": [
    {
     "name": "stdout",
     "output_type": "stream",
     "text": [
      "<div id=\"first-div\">\n",
      "<p class=\"first\">First Paragraph</p>\n",
      "</div>\n",
      "\n",
      "\n",
      "<div id=\"second-div\">\n",
      "<p class=\"second\">Second Paragraph</p>\n",
      "</div>\n",
      "\n",
      "\n",
      "<div id=\"third-div\">\n",
      "<a href=\"https://www.studytonight.com\">Studytonight</a>\n",
      "<p class=\"third\">Third Paragraph</p>\n",
      "</div>\n",
      "\n",
      "\n",
      "<div id=\"fourth-div\">\n",
      "<p class=\"fourth\">Fourth Paragraph</p>\n",
      "</div>\n",
      "\n",
      "\n",
      "<div id=\"fifth-div\">\n",
      "<p class=\"fifth\">Fifth Paragraph</p>\n",
      "</div>\n",
      "\n",
      "\n"
     ]
    }
   ],
   "source": [
    "for tag in content_list:\n",
    "    if tag != \"\\n\":\n",
    "        print(tag)\n",
    "        print(\"\\n\")"
   ]
  },
  {
   "cell_type": "code",
   "execution_count": 15,
   "metadata": {},
   "outputs": [
    {
     "name": "stdout",
     "output_type": "stream",
     "text": [
      "<div id=\"first-div\">\n",
      "<p class=\"first\">First Paragraph</p>\n",
      "</div>\n",
      "\n",
      "\n",
      "<div id=\"second-div\">\n",
      "<p class=\"second\">Second Paragraph</p>\n",
      "</div>\n",
      "\n",
      "\n",
      "<div id=\"third-div\">\n",
      "<a href=\"https://www.studytonight.com\">Studytonight</a>\n",
      "<p class=\"third\">Third Paragraph</p>\n",
      "</div>\n",
      "\n",
      "\n",
      "<div id=\"fourth-div\">\n",
      "<p class=\"fourth\">Fourth Paragraph</p>\n",
      "</div>\n",
      "\n",
      "\n",
      "<div id=\"fifth-div\">\n",
      "<p class=\"fifth\">Fifth Paragraph</p>\n",
      "</div>\n",
      "\n",
      "\n"
     ]
    }
   ],
   "source": [
    "##children method is similar to the contents method, but children method returns an iterator while the contents method returns a list of all the children. Let's see an example:\n",
    "body = soup.body\n",
    "for tag in body.children:\n",
    "    if tag != \"\\n\":\n",
    "        print(tag)\n",
    "        print(\"\\n\")"
   ]
  },
  {
   "cell_type": "code",
   "execution_count": 16,
   "metadata": {},
   "outputs": [
    {
     "name": "stdout",
     "output_type": "stream",
     "text": [
      "<div id=\"first-div\">\n",
      "<p class=\"first\">First Paragraph</p>\n",
      "</div>\n",
      "\n",
      "\n",
      "<p class=\"first\">First Paragraph</p>\n",
      "\n",
      "\n",
      "First Paragraph\n",
      "\n",
      "\n",
      "<div id=\"second-div\">\n",
      "<p class=\"second\">Second Paragraph</p>\n",
      "</div>\n",
      "\n",
      "\n",
      "<p class=\"second\">Second Paragraph</p>\n",
      "\n",
      "\n",
      "Second Paragraph\n",
      "\n",
      "\n",
      "<div id=\"third-div\">\n",
      "<a href=\"https://www.studytonight.com\">Studytonight</a>\n",
      "<p class=\"third\">Third Paragraph</p>\n",
      "</div>\n",
      "\n",
      "\n",
      "<a href=\"https://www.studytonight.com\">Studytonight</a>\n",
      "\n",
      "\n",
      "Studytonight\n",
      "\n",
      "\n",
      "<p class=\"third\">Third Paragraph</p>\n",
      "\n",
      "\n",
      "Third Paragraph\n",
      "\n",
      "\n",
      "<div id=\"fourth-div\">\n",
      "<p class=\"fourth\">Fourth Paragraph</p>\n",
      "</div>\n",
      "\n",
      "\n",
      "<p class=\"fourth\">Fourth Paragraph</p>\n",
      "\n",
      "\n",
      "Fourth Paragraph\n",
      "\n",
      "\n",
      "<div id=\"fifth-div\">\n",
      "<p class=\"fifth\">Fifth Paragraph</p>\n",
      "</div>\n",
      "\n",
      "\n",
      "<p class=\"fifth\">Fifth Paragraph</p>\n",
      "\n",
      "\n",
      "Fifth Paragraph\n",
      "\n",
      "\n"
     ]
    }
   ],
   "source": [
    "for tag in body.descendants:\n",
    "    if tag != \"\\n\":\n",
    "        print(tag)\n",
    "        print(\"\\n\")"
   ]
  },
  {
   "cell_type": "code",
   "execution_count": 17,
   "metadata": {},
   "outputs": [
    {
     "name": "stdout",
     "output_type": "stream",
     "text": [
      "html\n"
     ]
    }
   ],
   "source": [
    "body_parent = body.parent\n",
    "print(body_parent.name)"
   ]
  },
  {
   "cell_type": "code",
   "execution_count": 19,
   "metadata": {},
   "outputs": [
    {
     "name": "stdout",
     "output_type": "stream",
     "text": [
      "html\n",
      "\n",
      "\n",
      "[document]\n",
      "\n",
      "\n"
     ]
    }
   ],
   "source": [
    "## getting parents of 'body'\n",
    "body_parents = body.parents\n",
    "\n",
    "for parent in body_parents:\n",
    "    print(parent.name)\n",
    "    print(\"\\n\")"
   ]
  },
  {
   "cell_type": "code",
   "execution_count": 20,
   "metadata": {},
   "outputs": [
    {
     "name": "stdout",
     "output_type": "stream",
     "text": [
      "<a href=\"https://www.studytonight.com\">Studytonight</a>\n",
      "<p class=\"third\">Third Paragraph</p>\n"
     ]
    }
   ],
   "source": [
    "anchor_tag = soup.a\n",
    "print(anchor_tag)\n",
    "third_para = anchor_tag.next_sibling.next_sibling\n",
    "print(third_para)"
   ]
  },
  {
   "cell_type": "code",
   "execution_count": 21,
   "metadata": {},
   "outputs": [
    {
     "name": "stdout",
     "output_type": "stream",
     "text": [
      "<a href=\"https://www.studytonight.com\">Studytonight</a>\n"
     ]
    }
   ],
   "source": [
    "print(third_para.previous_sibling.previous_sibling)"
   ]
  },
  {
   "cell_type": "code",
   "execution_count": 22,
   "metadata": {},
   "outputs": [
    {
     "name": "stdout",
     "output_type": "stream",
     "text": [
      "['\\n', <p class=\"third\">Third Paragraph</p>, '\\n']\n"
     ]
    }
   ],
   "source": [
    "## using anchor_tag variable here\n",
    "a_siblings = anchor_tag.next_siblings\n",
    "\n",
    "print(list(a_siblings))"
   ]
  },
  {
   "cell_type": "code",
   "execution_count": null,
   "metadata": {},
   "outputs": [],
   "source": [
    "## using third_para variable here\n",
    "p_siblings = third_para.previous_siblings\n",
    "\n",
    "print(list(p_siblings))"
   ]
  }
 ],
 "metadata": {
  "kernelspec": {
   "display_name": "Python 3.9.12 ('beautifulsoup')",
   "language": "python",
   "name": "python3"
  },
  "language_info": {
   "codemirror_mode": {
    "name": "ipython",
    "version": 3
   },
   "file_extension": ".py",
   "mimetype": "text/x-python",
   "name": "python",
   "nbconvert_exporter": "python",
   "pygments_lexer": "ipython3",
   "version": "3.9.12"
  },
  "orig_nbformat": 4,
  "vscode": {
   "interpreter": {
    "hash": "4f81f9fb6c13969386f9bd9e9ebfc5f93bf9fe1940560d6b83dc734216a5471a"
   }
  }
 },
 "nbformat": 4,
 "nbformat_minor": 2
}
