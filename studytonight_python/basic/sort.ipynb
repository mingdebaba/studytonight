{
 "cells": [
  {
   "cell_type": "code",
   "execution_count": 2,
   "metadata": {},
   "outputs": [],
   "source": [
    "def pigeonhole_sort(a):\n",
    "    minimum = min(a)\n",
    "    maximum = max(a)\n",
    "    s = maximum -minimum +1\n",
    "    h = [0]* s\n",
    "    for x in a:\n",
    "        assert type(x) is int,\"integers only please\"\n",
    "        h[x-minimum] += 1\n",
    "    i = 0\n",
    "    for c in range(s):\n",
    "        while h[c] > 0:\n",
    "            h[c] -= 1\n",
    "            a[i] = c+minimum\n",
    "            i += 1"
   ]
  },
  {
   "cell_type": "code",
   "execution_count": 3,
   "metadata": {},
   "outputs": [
    {
     "name": "stdout",
     "output_type": "stream",
     "text": [
      "The original array is:  [9, 7, 2, 3, 4, 8, 6]\n",
      "The Sorted order is :  2 3 4 6 7 8 9 "
     ]
    }
   ],
   "source": [
    "array = [9, 7, 2, 3, 4, 8, 6]\n",
    "print(\"The original array is: \", array)\n",
    "print(\"The Sorted order is : \", end = ' ')\n",
    "pigeonhole_sort(array)      \n",
    "for i in range(0, len(array)):\n",
    "    print(array[i], end = ' ')"
   ]
  },
  {
   "cell_type": "code",
   "execution_count": null,
   "metadata": {},
   "outputs": [],
   "source": []
  }
 ],
 "metadata": {
  "kernelspec": {
   "display_name": "Python 3.9.7 ('base')",
   "language": "python",
   "name": "python3"
  },
  "language_info": {
   "codemirror_mode": {
    "name": "ipython",
    "version": 3
   },
   "file_extension": ".py",
   "mimetype": "text/x-python",
   "name": "python",
   "nbconvert_exporter": "python",
   "pygments_lexer": "ipython3",
   "version": "3.9.7"
  },
  "orig_nbformat": 4,
  "vscode": {
   "interpreter": {
    "hash": "eeb9bea61e70784f7118683a786bc6c98a5027c9f70149c135d324a83f473243"
   }
  }
 },
 "nbformat": 4,
 "nbformat_minor": 2
}
