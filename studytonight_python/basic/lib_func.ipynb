{
 "cells": [
  {
   "cell_type": "code",
   "execution_count": 5,
   "metadata": {},
   "outputs": [
    {
     "name": "stdout",
     "output_type": "stream",
     "text": [
      "I love coding\n"
     ]
    }
   ],
   "source": [
    "str1 = \"I love coding\"\n",
    "str2 = str1.center(10, \"#\")\n",
    "print(str2)\n",
    "\n",
    "########################################\n",
    "\n"
   ]
  },
  {
   "cell_type": "code",
   "execution_count": 4,
   "metadata": {},
   "outputs": [
    {
     "name": "stdout",
     "output_type": "stream",
     "text": [
      "String:  12345678  Numeric:  True\n",
      "String:  abcd123k  Numeric:  False\n",
      "String:  ½  Numeric:  True\n"
     ]
    }
   ],
   "source": [
    "#如果字符串仅包含数值，则返回true，否则返回false\n",
    "str1 = \"12345678\"\n",
    "str2=\"abcd123k\"\n",
    "str3=\"\\u00BD\"\n",
    "print(\"String: \", str1, \" Numeric: \", str1.isnumeric())\n",
    "print(\"String: \", str2, \" Numeric: \", str2.isnumeric())\n",
    "print(\"String: \", str3, \" Numeric: \", str3.isnumeric())"
   ]
  },
  {
   "cell_type": "code",
   "execution_count": 6,
   "metadata": {},
   "outputs": [
    {
     "name": "stdout",
     "output_type": "stream",
     "text": [
      "String:  Hell0  printable:  True\n",
      "String:  !@#$%^&*(  printable:  True\n",
      "String:  Hello Boy   printable:  True\n",
      "String:  Yes \n",
      " No  printable:  False\n",
      "String:  1234 !@#@!%^ abcd  printable:  True\n"
     ]
    }
   ],
   "source": [
    "#如果字符串中的所有字符都是可打印的，则此方法返回true。\n",
    "a = \"Hell0\"\n",
    "b = \"!@#$%^&*(\"\n",
    "c = \"Hello Boy \"\n",
    "d = \"Yes \\n No\"\n",
    "e = \"1234 !@#@!%^ abcd\"\n",
    "print(\"String: \", a, \" printable: \", a.isprintable())\n",
    "print(\"String: \", b, \" printable: \", b.isprintable())\n",
    "print(\"String: \", c, \" printable: \", c.isprintable())\n",
    "print(\"String: \", d, \" printable: \", d.isprintable())\n",
    "print(\"String: \", e, \" printable: \", e.isprintable())"
   ]
  },
  {
   "cell_type": "code",
   "execution_count": 8,
   "metadata": {},
   "outputs": [
    {
     "name": "stdout",
     "output_type": "stream",
     "text": [
      "Original String:  I am a coding lover! Partition:  ('I ', 'a', 'm a coding lover!')\n",
      "Original String:  World of science is magic! Partition:  ('World of science is ', 'magic', '!')\n"
     ]
    }
   ],
   "source": [
    "str1 = \"I am a coding lover!\"\n",
    "str2 = \"World of science is magic!\"\n",
    "#此方法主要返回一个元组，该元组还有三部分：\n",
    "\n",
    "#第一部分指示分隔符之前的字符串部分。\n",
    "\n",
    "#第二部分指示分隔符本身。\n",
    "\n",
    "#第三部分指示分隔符后面的字符串部分。\n",
    "print(\"Original String: \", str1, \"Partition: \", str1.partition('a'))\n",
    "print(\"Original String: \", str2, \"Partition: \", str2.partition('magic'))\n"
   ]
  },
  {
   "cell_type": "code",
   "execution_count": 9,
   "metadata": {},
   "outputs": [
    {
     "name": "stdout",
     "output_type": "stream",
     "text": [
      "{104: 71, 101: 105, 108: 108, 111: 115, 97: 97}\n"
     ]
    }
   ],
   "source": [
    "str1=\"helloa\"\n",
    "str2=\"Girlsa\"\n",
    "str_var=\"Hello\"\n",
    "print(str_var.maketrans(str1, str2))"
   ]
  },
  {
   "cell_type": "code",
   "execution_count": 11,
   "metadata": {},
   "outputs": [
    {
     "name": "stdout",
     "output_type": "stream",
     "text": [
      "1132345\n"
     ]
    }
   ],
   "source": [
    "intab = \"abcde\"\n",
    "outtab = \"12345\"\n",
    "trantab = str.maketrans(intab, outtab)\n",
    "\n",
    "str = \"aacbcde\"\n",
    "print (str.translate(trantab))"
   ]
  },
  {
   "cell_type": "code",
   "execution_count": 13,
   "metadata": {},
   "outputs": [
    {
     "name": "stdout",
     "output_type": "stream",
     "text": [
      "{97: '219', 98: '211', 99: '229'}\n"
     ]
    }
   ],
   "source": [
    "dict = {\"a\": \"219\", \"b\": \"211\", \"c\": \"229\"}\n",
    "string = \"bbb\"\n",
    "print(string.maketrans(dict))"
   ]
  },
  {
   "cell_type": "code",
   "execution_count": 14,
   "metadata": {},
   "outputs": [
    {
     "name": "stdout",
     "output_type": "stream",
     "text": [
      "False\n",
      "True\n",
      "True\n"
     ]
    }
   ],
   "source": [
    "str=\"This is the best place to learn coding\"\n",
    "print(str.istitle())\n",
    "\n",
    "str2= \"I Am A John Cena Fan\"\n",
    "print(str2.istitle())\n",
    "\n",
    "str3=\"34Thomas\"\n",
    "print(str3.istitle())"
   ]
  },
  {
   "cell_type": "code",
   "execution_count": 15,
   "metadata": {},
   "outputs": [
    {
     "name": "stdout",
     "output_type": "stream",
     "text": [
      "String:  I love StudyTonight Highest Index:  2\n",
      "String:  I love Python Highest Index:  7\n"
     ]
    },
    {
     "ename": "ValueError",
     "evalue": "substring not found",
     "output_type": "error",
     "traceback": [
      "\u001b[1;31m---------------------------------------------------------------------------\u001b[0m",
      "\u001b[1;31mValueError\u001b[0m                                Traceback (most recent call last)",
      "\u001b[1;32md:\\studytonight\\studytonight_python\\basic\\lib_func.ipynb Cell 9\u001b[0m in \u001b[0;36m<cell line: 9>\u001b[1;34m()\u001b[0m\n\u001b[0;32m      <a href='vscode-notebook-cell:/d%3A/studytonight/studytonight_python/basic/lib_func.ipynb#X11sZmlsZQ%3D%3D?line=5'>6</a>\u001b[0m \u001b[39mprint\u001b[39m(\u001b[39m\"\u001b[39m\u001b[39mString: \u001b[39m\u001b[39m\"\u001b[39m, str1, \u001b[39m\"\u001b[39m\u001b[39mHighest Index: \u001b[39m\u001b[39m\"\u001b[39m, str1\u001b[39m.\u001b[39mrindex(\u001b[39m\"\u001b[39m\u001b[39mlove\u001b[39m\u001b[39m\"\u001b[39m))\n\u001b[0;32m      <a href='vscode-notebook-cell:/d%3A/studytonight/studytonight_python/basic/lib_func.ipynb#X11sZmlsZQ%3D%3D?line=7'>8</a>\u001b[0m \u001b[39mprint\u001b[39m(\u001b[39m\"\u001b[39m\u001b[39mString: \u001b[39m\u001b[39m\"\u001b[39m, str2, \u001b[39m\"\u001b[39m\u001b[39mHighest Index: \u001b[39m\u001b[39m\"\u001b[39m, str2\u001b[39m.\u001b[39mrindex(\u001b[39m\"\u001b[39m\u001b[39mPython\u001b[39m\u001b[39m\"\u001b[39m))\n\u001b[1;32m----> <a href='vscode-notebook-cell:/d%3A/studytonight/studytonight_python/basic/lib_func.ipynb#X11sZmlsZQ%3D%3D?line=8'>9</a>\u001b[0m \u001b[39mprint\u001b[39m(\u001b[39m\"\u001b[39m\u001b[39mString: \u001b[39m\u001b[39m\"\u001b[39m, str3, \u001b[39m\"\u001b[39m\u001b[39mHighest Index: \u001b[39m\u001b[39m\"\u001b[39m, str3\u001b[39m.\u001b[39;49mrindex(\u001b[39m\"\u001b[39;49m\u001b[39mdrink\u001b[39;49m\u001b[39m\"\u001b[39;49m))\n",
      "\u001b[1;31mValueError\u001b[0m: substring not found"
     ]
    }
   ],
   "source": [
    "str1 = \"I love StudyTonight\"\n",
    "\n",
    "str2 = \"I love Python\"\n",
    "str3 = \"Python language doesn't bite\"\n",
    "# rindex()方法的作用与rfind()方法相同，只不过它会引发错误ValueError。\n",
    "# 如果未找到子字符串，此方法将引发异常ValueError。\n",
    "print(\"String: \", str1, \"Highest Index: \", str1.rindex(\"love\"))\n",
    "\n",
    "print(\"String: \", str2, \"Highest Index: \", str2.rindex(\"Python\"))\n",
    "print(\"String: \", str3, \"Highest Index: \", str3.rindex(\"drink\"))"
   ]
  },
  {
   "cell_type": "code",
   "execution_count": 16,
   "metadata": {},
   "outputs": [
    {
     "name": "stdout",
     "output_type": "stream",
     "text": [
      "Splitted list:  ['India is a diverse country.', 'With many different religions and cultures']\n",
      "Splitted list:  ['I love chinese', ' food!!']\n"
     ]
    }
   ],
   "source": [
    "str1 = \"India is a diverse country.\\r\\nWith many different religions and cultures\"\n",
    "str2 = \"I love chinese\\r food!!\"\n",
    "\n",
    "print(\"Splitted list: \", str1.splitlines())\n",
    "\n",
    "print(\"Splitted list: \", str2.splitlines())\n"
   ]
  },
  {
   "cell_type": "code",
   "execution_count": 18,
   "metadata": {},
   "outputs": [
    {
     "name": "stdout",
     "output_type": "stream",
     "text": [
      "Highest Index 'gain':  3\n",
      "Highest Index 'study':  -1\n",
      "Highest Index 'is':  13\n"
     ]
    }
   ],
   "source": [
    "########Without using any parameter with rfind()######\n",
    "str1=\"To gain something we must lose something first\"\n",
    "print(\"Highest Index 'gain': \",str1.rfind(\"gain\"))\n",
    "\n",
    "####With using starting and ending index#######\n",
    "str2=\"Studytonight helps you study and learn coding.\"\n",
    "print(\"Highest Index 'study': \", str2.rfind(\"study\", 0, 26))\n",
    "\n",
    "###########multiple occurence######\n",
    "str3=\"Python is or is not versatile?\"\n",
    "print(\"Highest Index 'is': \", str3.rfind(\"is\"))"
   ]
  },
  {
   "cell_type": "code",
   "execution_count": 22,
   "metadata": {},
   "outputs": [
    {
     "name": "stdout",
     "output_type": "stream",
     "text": [
      "String before split:  hello once again my friends!!\n",
      "String after split:  ['hello once again ', ' friends!!']\n",
      "String after split:  hello once again \n",
      "String after split:   friends!!\n"
     ]
    }
   ],
   "source": [
    "#此方法在基于分隔符划分字符串后返回子字符串列表。\n",
    "#分隔符可以是任何字符、任何字母、数字，\n",
    "#或者如果您不提供任何分隔符字符，则空格将作为默认分隔符。\n",
    "str = \"hello once again my friends!!\"\n",
    "print(\"String before split: \", str)\n",
    "print(\"String after split: \", str.rsplit(\"my\", 2))\n",
    "print(\"String after split: \", str.rsplit(\"my\", 2)[0])\n",
    "print(\"String after split: \", str.rsplit(\"my\", 2)[1])"
   ]
  },
  {
   "cell_type": "code",
   "execution_count": 26,
   "metadata": {},
   "outputs": [
    {
     "name": "stdout",
     "output_type": "stream",
     "text": [
      "True\n",
      "False\n",
      "True\n",
      "False\n"
     ]
    }
   ],
   "source": [
    "#isspace()used to check if a given string contains only whitespace characters or not.\n",
    "str1 = \"  \"\n",
    "str2 = \"   Boy\"\n",
    "str3 = \"\\n\\n\\t\\n\\n\"\n",
    "str4 = \" Hello Girl \"\n",
    "print(str1.isspace())\n",
    "print(str2.isspace())\n",
    "print(str3.isspace())\n",
    "print(str4.isspace())"
   ]
  },
  {
   "cell_type": "code",
   "execution_count": 28,
   "metadata": {},
   "outputs": [
    {
     "name": "stdout",
     "output_type": "stream",
     "text": [
      "0000000000QWERTYUIOP\n",
      "STUDYTONIGHT\n",
      "000000000000no way!!\n"
     ]
    }
   ],
   "source": [
    "str1=\"QWERTYUIOP\"\n",
    "str2=\"STUDYTONIGHT\"\n",
    "str3=\"no way!!\"\n",
    "#It returns a string with the required number of zeroes appended in the main string.\n",
    "print(str1.zfill(20))\n",
    "print(str2.zfill(5))\n",
    "print(str3.zfill(20))"
   ]
  },
  {
   "cell_type": "code",
   "execution_count": 29,
   "metadata": {},
   "outputs": [
    {
     "name": "stdout",
     "output_type": "stream",
     "text": [
      "True\n"
     ]
    }
   ],
   "source": [
    "str = 'WE ARE IN THE TITANIC NOW'\n",
    "print(str.isupper())"
   ]
  },
  {
   "cell_type": "code",
   "execution_count": 30,
   "metadata": {},
   "outputs": [
    {
     "name": "stdout",
     "output_type": "stream",
     "text": [
      "False\n"
     ]
    }
   ],
   "source": [
    "str=\"i Am Girl\"\n",
    "print(str.islower())\n"
   ]
  },
  {
   "cell_type": "code",
   "execution_count": 40,
   "metadata": {},
   "outputs": [
    {
     "name": "stdout",
     "output_type": "stream",
     "text": [
      "True\n",
      "False\n"
     ]
    }
   ],
   "source": [
    "#如果字符串以指定的前缀或子字符串开头，则返回true\n",
    "\n",
    "#如果字符串不以指定的前缀开头，则在大小写的情况下返回f\n",
    "strA = 'Welcome to StudyTonight'\n",
    "print(strA.startswith('Welcome'))\n",
    "print(strA.startswith('to'))"
   ]
  },
  {
   "cell_type": "code",
   "execution_count": 41,
   "metadata": {},
   "outputs": [
    {
     "name": "stdout",
     "output_type": "stream",
     "text": [
      "StudyTonight!! Best place to learn coding\n"
     ]
    }
   ],
   "source": [
    "#删除字符串前后添加的空格\n",
    "str = \"   StudyTonight!! Best place to learn coding\"\n",
    "print(str.strip());"
   ]
  },
  {
   "cell_type": "code",
   "execution_count": 42,
   "metadata": {},
   "outputs": [
    {
     "name": "stdout",
     "output_type": "stream",
     "text": [
      "Hello shreya, you have 21 bucks.\n",
      "He Has this:100.780000\n"
     ]
    }
   ],
   "source": [
    "name = 'shreya'\n",
    "bucks = 21\n",
    "print('Hello {}, you have {} bucks.'.format(name, bucks))\n",
    "\n",
    "#####Another Example\n",
    "a=100.78\n",
    "print('He Has this:{:f}'.format(a))"
   ]
  },
  {
   "cell_type": "code",
   "execution_count": 53,
   "metadata": {},
   "outputs": [
    {
     "name": "stdout",
     "output_type": "stream",
     "text": [
      "The output is: This is a string\n",
      "A1231\n",
      "None\n"
     ]
    }
   ],
   "source": [
    "#此方法返回一个字符串，其第一个字母为大写字母，而所有其他字母为小写字母。\n",
    "# 在这种情况下，如果字符串的第一个字母是大写的，那么它返回原始字符串。\n",
    "####With string\n",
    "a=\"this is a string\"\n",
    "print(\"The output is:\",a.capitalize())\n",
    "\n",
    "##With Number\n",
    "b=\"a1231\"\n",
    "print(b.capitalize())\n",
    "\n",
    "\n",
    "###With none it will also raise an error\n",
    "x=\"NONE\"\n",
    "print(x.capitalize())"
   ]
  },
  {
   "cell_type": "code",
   "execution_count": 56,
   "metadata": {},
   "outputs": [
    {
     "name": "stdout",
     "output_type": "stream",
     "text": [
      "AI/Machine Learning/Serverless/ARVR\n"
     ]
    }
   ],
   "source": [
    "technologies = {\n",
    "    1: 'AI',\n",
    "    2: 'Machine Learning',\n",
    "    3: 'Serverless',\n",
    "    4: 'ARVR'\n",
    "}\n",
    "trends= '/'.join(technologies.values())\n",
    "print(trends)"
   ]
  },
  {
   "cell_type": "code",
   "execution_count": 59,
   "metadata": {},
   "outputs": [
    {
     "name": "stdout",
     "output_type": "stream",
     "text": [
      "['11', '34', '56', '67', '89']\n",
      "[11, 34, 56, 67, 89]\n"
     ]
    }
   ],
   "source": [
    "# split() method of strings in Python which is used to split a string\n",
    "str=\"11 34 56 67 89\"\n",
    "mp = map(int, str.split())\n",
    "print(str.split())\n",
    "res = list(mp)\n",
    "print(res)"
   ]
  },
  {
   "cell_type": "code",
   "execution_count": 60,
   "metadata": {},
   "outputs": [
    {
     "name": "stdout",
     "output_type": "stream",
     "text": [
      "5\n"
     ]
    }
   ],
   "source": [
    "#string.find(value, start, end)\n",
    "str = 'StudyTonight is a platform to learn coding online'\n",
    "index = str.find('Tonight')\n",
    "print(index)"
   ]
  },
  {
   "cell_type": "code",
   "execution_count": 61,
   "metadata": {},
   "outputs": [
    {
     "name": "stdout",
     "output_type": "stream",
     "text": [
      "15\n"
     ]
    }
   ],
   "source": [
    "str1 = 'Titanic is a great movie'\n",
    "index = str1.find('e', 0, 17)\n",
    "print(index)"
   ]
  },
  {
   "cell_type": "code",
   "execution_count": 62,
   "metadata": {},
   "outputs": [
    {
     "name": "stdout",
     "output_type": "stream",
     "text": [
      "The||pollution||in||the||air\n"
     ]
    }
   ],
   "source": [
    "import re\n",
    "\n",
    "data = \"The pollution in the air\"\n",
    "res = re.sub(\"\\s\", \"||\", data)\n",
    "print(res)"
   ]
  },
  {
   "cell_type": "code",
   "execution_count": 65,
   "metadata": {},
   "outputs": [
    {
     "name": "stdout",
     "output_type": "stream",
     "text": [
      "titanic Movie is  a great movie\n"
     ]
    }
   ],
   "source": [
    "str = 'ABC Movie is  a great movie'\n",
    "\n",
    "replacedString = str.replace('ABC', 'titanic')\n",
    "\n",
    "print(replacedString)"
   ]
  },
  {
   "cell_type": "code",
   "execution_count": 68,
   "metadata": {},
   "outputs": [
    {
     "name": "stdout",
     "output_type": "stream",
     "text": [
      "The substring occurs 3 times\n"
     ]
    }
   ],
   "source": [
    "john = 'What did you bring Mr. Bing'\n",
    "substring = 'i'\n",
    "count = john.count(substring)\n",
    "print('The substring occurs {} times'.format(count))"
   ]
  },
  {
   "cell_type": "code",
   "execution_count": 70,
   "metadata": {},
   "outputs": [
    {
     "name": "stdout",
     "output_type": "stream",
     "text": [
      "10\n"
     ]
    }
   ],
   "source": [
    "ab = 'We can do whatever we want'\n",
    "sample = ab.index('w', 0, 100)\n",
    "print(sample)"
   ]
  },
  {
   "cell_type": "code",
   "execution_count": 75,
   "metadata": {},
   "outputs": [
    {
     "name": "stdout",
     "output_type": "stream",
     "text": [
      "7\n"
     ]
    }
   ],
   "source": [
    "abc = 'We can do whatever we want'\n",
    "ab = 'Expectonum'\n",
    "data = ab.index('num')\n",
    "print(data)"
   ]
  },
  {
   "cell_type": "code",
   "execution_count": 77,
   "metadata": {},
   "outputs": [
    {
     "data": {
      "text/plain": [
       "'hELLO sTUDYtONIGHT'"
      ]
     },
     "execution_count": 77,
     "metadata": {},
     "output_type": "execute_result"
    }
   ],
   "source": [
    "h1= \"Hello StudyTonight\"\n",
    "h1.swapcase()"
   ]
  },
  {
   "cell_type": "code",
   "execution_count": 78,
   "metadata": {},
   "outputs": [
    {
     "name": "stdout",
     "output_type": "stream",
     "text": [
      "Original string:  I am A JOHN CENA FAN!\n",
      "title():  I Am A John Cena Fan! \n",
      "\n",
      "Original string:  I lOvE sTuDyTonight\n",
      "title():  I Love Studytonight \n",
      "\n"
     ]
    }
   ],
   "source": [
    "h1 = \"I am A JOHN CENA FAN!\"\n",
    "h2= \"I lOvE sTuDyTonight\"\n",
    "\n",
    "\n",
    "print(\"Original string: \", h1)\n",
    "print(\"title(): \", h1.title(), \"\\n\")\n",
    "print(\"Original string: \", h2)\n",
    "print(\"title(): \", h2.title(), \"\\n\")\n"
   ]
  },
  {
   "cell_type": "code",
   "execution_count": 79,
   "metadata": {},
   "outputs": [
    {
     "name": "stdout",
     "output_type": "stream",
     "text": [
      "b'St\\\\xe5le is my name'\n",
      "b'Stle is my name'\n",
      "b'St\\\\N{LATIN SMALL LETTER A WITH RING ABOVE}le is my name'\n",
      "b'St?le is my name'\n",
      "b'St&#229;le is my name'\n"
     ]
    },
    {
     "ename": "UnicodeEncodeError",
     "evalue": "'ascii' codec can't encode character '\\xe5' in position 2: ordinal not in range(128)",
     "output_type": "error",
     "traceback": [
      "\u001b[1;31m---------------------------------------------------------------------------\u001b[0m",
      "\u001b[1;31mUnicodeEncodeError\u001b[0m                        Traceback (most recent call last)",
      "\u001b[1;32md:\\studytonight\\studytonight_python\\basic\\lib_func.ipynb Cell 32\u001b[0m in \u001b[0;36m<cell line: 8>\u001b[1;34m()\u001b[0m\n\u001b[0;32m      <a href='vscode-notebook-cell:/d%3A/studytonight/studytonight_python/basic/lib_func.ipynb#X43sZmlsZQ%3D%3D?line=5'>6</a>\u001b[0m \u001b[39mprint\u001b[39m(string\u001b[39m.\u001b[39mencode(encoding\u001b[39m=\u001b[39m\u001b[39m\"\u001b[39m\u001b[39mascii\u001b[39m\u001b[39m\"\u001b[39m,errors\u001b[39m=\u001b[39m\u001b[39m\"\u001b[39m\u001b[39mreplace\u001b[39m\u001b[39m\"\u001b[39m))\n\u001b[0;32m      <a href='vscode-notebook-cell:/d%3A/studytonight/studytonight_python/basic/lib_func.ipynb#X43sZmlsZQ%3D%3D?line=6'>7</a>\u001b[0m \u001b[39mprint\u001b[39m(string\u001b[39m.\u001b[39mencode(encoding\u001b[39m=\u001b[39m\u001b[39m\"\u001b[39m\u001b[39mascii\u001b[39m\u001b[39m\"\u001b[39m,errors\u001b[39m=\u001b[39m\u001b[39m\"\u001b[39m\u001b[39mxmlcharrefreplace\u001b[39m\u001b[39m\"\u001b[39m))\n\u001b[1;32m----> <a href='vscode-notebook-cell:/d%3A/studytonight/studytonight_python/basic/lib_func.ipynb#X43sZmlsZQ%3D%3D?line=7'>8</a>\u001b[0m \u001b[39mprint\u001b[39m(string\u001b[39m.\u001b[39;49mencode(encoding\u001b[39m=\u001b[39;49m\u001b[39m\"\u001b[39;49m\u001b[39mascii\u001b[39;49m\u001b[39m\"\u001b[39;49m,errors\u001b[39m=\u001b[39;49m\u001b[39m\"\u001b[39;49m\u001b[39mstrict\u001b[39;49m\u001b[39m\"\u001b[39;49m))\n",
      "\u001b[1;31mUnicodeEncodeError\u001b[0m: 'ascii' codec can't encode character '\\xe5' in position 2: ordinal not in range(128)"
     ]
    }
   ],
   "source": [
    "string= \"Ståle is my name\"\n",
    "\n",
    "print(string.encode(encoding=\"ascii\",errors=\"backslashreplace\"))\n",
    "print(string.encode(encoding=\"ascii\",errors=\"ignore\"))\n",
    "print(string.encode(encoding=\"ascii\",errors=\"namereplace\"))\n",
    "print(string.encode(encoding=\"ascii\",errors=\"replace\"))\n",
    "print(string.encode(encoding=\"ascii\",errors=\"xmlcharrefreplace\"))\n",
    "print(string.encode(encoding=\"ascii\",errors=\"strict\"))"
   ]
  },
  {
   "cell_type": "code",
   "execution_count": 80,
   "metadata": {},
   "outputs": [
    {
     "ename": "SyntaxError",
     "evalue": "invalid syntax (967228473.py, line 1)",
     "output_type": "error",
     "traceback": [
      "\u001b[1;36m  Input \u001b[1;32mIn [80]\u001b[1;36m\u001b[0m\n\u001b[1;33m    true in the case, if the string ends with a particular specified suffix; else it will returns false\u001b[0m\n\u001b[1;37m                ^\u001b[0m\n\u001b[1;31mSyntaxError\u001b[0m\u001b[1;31m:\u001b[0m invalid syntax\n"
     ]
    }
   ],
   "source": [
    "#true in the case, if the string ends with a particular specified suffix; else it will returns false"
   ]
  }
 ],
 "metadata": {
  "kernelspec": {
   "display_name": "Python 3.10.6 ('ml')",
   "language": "python",
   "name": "python3"
  },
  "language_info": {
   "codemirror_mode": {
    "name": "ipython",
    "version": 3
   },
   "file_extension": ".py",
   "mimetype": "text/x-python",
   "name": "python",
   "nbconvert_exporter": "python",
   "pygments_lexer": "ipython3",
   "version": "3.10.6"
  },
  "orig_nbformat": 4,
  "vscode": {
   "interpreter": {
    "hash": "cf1d9465f6502f177b365be3304d09fdeffdb2bc4d9e067aaaa01fb948a8cbd7"
   }
  }
 },
 "nbformat": 4,
 "nbformat_minor": 2
}
