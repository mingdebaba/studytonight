{
 "cells": [
  {
   "cell_type": "code",
   "execution_count": 1,
   "metadata": {},
   "outputs": [],
   "source": [
    "import numpy as np"
   ]
  },
  {
   "cell_type": "code",
   "execution_count": 2,
   "metadata": {},
   "outputs": [
    {
     "name": "stdout",
     "output_type": "stream",
     "text": [
      "The dot Product of above given scalar values : \n",
      "32\n",
      "The Dot Product of two 1-D arrays is : \n",
      "(17+44j)\n"
     ]
    }
   ],
   "source": [
    "a = np.dot(8, 4) \n",
    "print(\"The dot Product of above given scalar values : \")\n",
    "print(a) \n",
    "\n",
    "# Now we will take 1-D arrays \n",
    "vect_a = 4 + 3j\n",
    "vect_b = 8 + 5j\n",
    "\n",
    "dot_product = np.dot(vect_a, vect_b) \n",
    "print(\"The Dot Product of two 1-D arrays is : \")\n",
    "print(dot_product) "
   ]
  },
  {
   "cell_type": "code",
   "execution_count": 3,
   "metadata": {},
   "outputs": [
    {
     "name": "stdout",
     "output_type": "stream",
     "text": [
      "The Matrix a is:\n",
      "[[ 50 100]\n",
      " [ 12  13]]\n",
      "The Matrix b is :\n",
      "[[10 20]\n",
      " [12 21]]\n",
      "The dot product of a and b is :\n",
      "[[1700 3100]\n",
      " [ 276  513]]\n"
     ]
    }
   ],
   "source": [
    "import numpy as np\n",
    "\n",
    "a = np.array([[50,100],[12,13]])  \n",
    "print(\"The Matrix a is:\")\n",
    "print (a)\n",
    "\n",
    "b = np.array([[10,20],[12,21]])  \n",
    "print(\"The Matrix b is :\")\n",
    "print(b)\n",
    "\n",
    "dot = np.dot(a,b)  \n",
    "print(\"The dot product of a and b is :\")\n",
    "print(dot)"
   ]
  },
  {
   "cell_type": "code",
   "execution_count": null,
   "metadata": {},
   "outputs": [],
   "source": [
    "#asarray()\n"
   ]
  }
 ],
 "metadata": {
  "kernelspec": {
   "display_name": "Python 3.10.6 ('ml')",
   "language": "python",
   "name": "python3"
  },
  "language_info": {
   "codemirror_mode": {
    "name": "ipython",
    "version": 3
   },
   "file_extension": ".py",
   "mimetype": "text/x-python",
   "name": "python",
   "nbconvert_exporter": "python",
   "pygments_lexer": "ipython3",
   "version": "3.10.6"
  },
  "orig_nbformat": 4,
  "vscode": {
   "interpreter": {
    "hash": "cf1d9465f6502f177b365be3304d09fdeffdb2bc4d9e067aaaa01fb948a8cbd7"
   }
  }
 },
 "nbformat": 4,
 "nbformat_minor": 2
}
