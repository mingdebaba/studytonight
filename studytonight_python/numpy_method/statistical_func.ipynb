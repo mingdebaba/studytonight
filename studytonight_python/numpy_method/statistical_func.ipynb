{
 "cells": [
  {
   "cell_type": "code",
   "execution_count": 2,
   "metadata": {},
   "outputs": [],
   "source": [
    "import numpy as np"
   ]
  },
  {
   "cell_type": "code",
   "execution_count": 4,
   "metadata": {},
   "outputs": [
    {
     "name": "stdout",
     "output_type": "stream",
     "text": [
      "The original array:\n",
      "\n",
      "[[ 2 15 20]\n",
      " [80 43 31]\n",
      " [22 43 10]]\n",
      "\n",
      "The minimum element among the array: 2\n",
      "\n",
      "The minimum element among the rows of array [ 2 15 10]\n",
      "\n",
      "The minimum element among the columns of array [ 2 31 10]\n"
     ]
    }
   ],
   "source": [
    "a = np.array([[2,15,20],[80,43,31],[22,43,10]])  \n",
    "print(\"The original array:\\n\")  \n",
    "print(a)  \n",
    "\n",
    "print(\"\\nThe minimum element among the array:\",np.amin(a))  \n",
    "print(\"\\nThe minimum element among the rows of array\",np.amin(a,0))  \n",
    "print(\"\\nThe minimum element among the columns of array\",np.amin(a,1)) "
   ]
  },
  {
   "cell_type": "code",
   "execution_count": 10,
   "metadata": {},
   "outputs": [],
   "source": [
    "arr = [a[...,1],a[...,2]]"
   ]
  },
  {
   "cell_type": "code",
   "execution_count": 11,
   "metadata": {},
   "outputs": [
    {
     "name": "stdout",
     "output_type": "stream",
     "text": [
      "[15 43 43]\n",
      "[array([15, 43, 43]), array([20, 31, 10])]\n",
      "<class 'list'>\n"
     ]
    }
   ],
   "source": [
    "print(a[...,1])\n",
    "print(arr)\n",
    "print(type(arr))"
   ]
  },
  {
   "cell_type": "code",
   "execution_count": 4,
   "metadata": {},
   "outputs": [
    {
     "name": "stdout",
     "output_type": "stream",
     "text": [
      "The Array is :\n",
      "[[0 1 2]\n",
      " [3 4 5]\n",
      " [6 7 8]]\n",
      "Minimum element in the array is: 0\n",
      "Minimum element along the first axis of array is: [0 1 2]\n",
      "Minimum element along the second axis of array is: [0 3 6]\n"
     ]
    }
   ],
   "source": [
    "a = np.arange(9).reshape((3,3))\n",
    "\n",
    "print(\"The Array is :\")\n",
    "print(a)\n",
    "\n",
    "print(\"Minimum element in the array is:\",np.amin(a))         \n",
    "\n",
    "print(\"Minimum element along the first axis of array is:\",np.amin(a, axis=0))  \n",
    "\n",
    "print(\"Minimum element along the second axis of array is:\",np.amin(a, axis=1))"
   ]
  },
  {
   "cell_type": "code",
   "execution_count": 1,
   "metadata": {},
   "outputs": [
    {
     "ename": "NameError",
     "evalue": "name 'np' is not defined",
     "output_type": "error",
     "traceback": [
      "\u001b[1;31m---------------------------------------------------------------------------\u001b[0m",
      "\u001b[1;31mNameError\u001b[0m                                 Traceback (most recent call last)",
      "\u001b[1;32md:\\studytonight\\numpymethods\\studytonight_python\\numpy_method\\statistical_func.ipynb Cell 4\u001b[0m in \u001b[0;36m<cell line: 1>\u001b[1;34m()\u001b[0m\n\u001b[1;32m----> <a href='vscode-notebook-cell:/d%3A/studytonight/numpymethods/studytonight_python/numpy_method/statistical_func.ipynb#W3sZmlsZQ%3D%3D?line=0'>1</a>\u001b[0m a \u001b[39m=\u001b[39m np\u001b[39m.\u001b[39marray([[\u001b[39m2\u001b[39m,\u001b[39m15\u001b[39m,\u001b[39m20\u001b[39m],[\u001b[39m80\u001b[39m,\u001b[39m43\u001b[39m,\u001b[39m31\u001b[39m],[\u001b[39m22\u001b[39m,\u001b[39m43\u001b[39m,\u001b[39m10\u001b[39m]])  \n\u001b[0;32m      <a href='vscode-notebook-cell:/d%3A/studytonight/numpymethods/studytonight_python/numpy_method/statistical_func.ipynb#W3sZmlsZQ%3D%3D?line=1'>2</a>\u001b[0m \u001b[39mprint\u001b[39m(\u001b[39m\"\u001b[39m\u001b[39mThe original array:\u001b[39m\u001b[39m\\n\u001b[39;00m\u001b[39m\"\u001b[39m)  \n\u001b[0;32m      <a href='vscode-notebook-cell:/d%3A/studytonight/numpymethods/studytonight_python/numpy_method/statistical_func.ipynb#W3sZmlsZQ%3D%3D?line=2'>3</a>\u001b[0m \u001b[39mprint\u001b[39m(a)  \n",
      "\u001b[1;31mNameError\u001b[0m: name 'np' is not defined"
     ]
    }
   ],
   "source": [
    "a = np.array([[2,15,20],[80,43,31],[22,43,10]])  \n",
    "print(\"The original array:\\n\")  \n",
    "print(a)  \n",
    "\n",
    "print(\"\\nThe maximum element among the array:\",np.amax(a))  \n",
    "print(\"\\nThe maximum element among the rows of array\",np.amax(a,0))  \n",
    "print(\"\\nThe maximum element among the columns of array\",np.amax(a,1)) "
   ]
  },
  {
   "cell_type": "code",
   "execution_count": null,
   "metadata": {},
   "outputs": [],
   "source": []
  },
  {
   "cell_type": "code",
   "execution_count": 7,
   "metadata": {},
   "outputs": [
    {
     "name": "stdout",
     "output_type": "stream",
     "text": [
      "The Input array is : \n",
      "[1, 10, 7, 20, 11, nan]\n",
      "The Range of input array is : \n",
      "nan\n"
     ]
    }
   ],
   "source": [
    "input_arr = [1, 10, 7, 20, 11, np.nan] \n",
    "print(\"The Input array is : \") \n",
    "print(input_arr)\n",
    "print(\"The Range of input array is : \")\n",
    "print(np.ptp(input_arr))"
   ]
  },
  {
   "cell_type": "code",
   "execution_count": 8,
   "metadata": {},
   "outputs": [
    {
     "name": "stdout",
     "output_type": "stream",
     "text": [
      "The Input array is : \n",
      "[1, 10, 7, 20, 11, 56, 67]\n",
      "The Range of input array is : \n",
      "66\n"
     ]
    }
   ],
   "source": [
    "#ptp =max-min\n",
    "input_arr = [1, 10, 7, 20,11,56,67] \n",
    "print(\"The Input array is : \") \n",
    "print(input_arr)\n",
    "print(\"The Range of input array is : \")\n",
    "print(np.ptp(input_arr))"
   ]
  },
  {
   "cell_type": "code",
   "execution_count": 10,
   "metadata": {},
   "outputs": [
    {
     "name": "stdout",
     "output_type": "stream",
     "text": [
      "The Input Array is : \n",
      "[26, 2]\n",
      "The median of 1D array is : \n",
      "14.0\n"
     ]
    }
   ],
   "source": [
    "#平均値\n",
    "a = [26, 2, 73, 13, 34] \n",
    "\n",
    "print(\"The Input Array is : \") \n",
    "print(a)\n",
    "print(\"The median of 1D array is : \")\n",
    "print(np.median(a)) "
   ]
  },
  {
   "cell_type": "code",
   "execution_count": 11,
   "metadata": {},
   "outputs": [
    {
     "name": "stdout",
     "output_type": "stream",
     "text": [
      "\n",
      "The median of array when axis = None : \n",
      "17.0\n",
      "\n",
      "The median of array when axis = 0 : \n",
      "[14.  6. 54.  8. 19.]\n",
      "\n",
      "The median of array when axis = 1 : \n",
      "[19. 14.  7.]\n"
     ]
    }
   ],
   "source": [
    "import numpy as np \n",
    "\n",
    "#median mid number    \n",
    "#if num=2 get mean\n",
    "inp = [[1, 17, 19, 33, 49], [14, 6, 87, 8, 19], [34, 2, 54, 4, 7]] \n",
    "\n",
    "print(\"\\nThe median of array when axis = None : \")\n",
    "print(np.median(inp)) \n",
    "\n",
    "# calculating median along the axis = 0 \n",
    "print(\"\\nThe median of array when axis = 0 : \")\n",
    "print(np.median(inp, axis = 0)) \n",
    "\n",
    "#calculating median along the axis = 1 \n",
    "print(\"\\nThe median of array when axis = 1 : \")\n",
    "print(np.median(inp, axis = 1)) \n"
   ]
  },
  {
   "cell_type": "code",
   "execution_count": 14,
   "metadata": {},
   "outputs": [
    {
     "name": "stdout",
     "output_type": "stream",
     "text": [
      "The Input array is : \n",
      "[80, 23, 17, 1, 39]\n",
      "The mean of the array is : \n",
      "32.0\n"
     ]
    }
   ],
   "source": [
    "x= [80, 23, 17, 1, 39] \n",
    "\n",
    "print(\"The Input array is : \")\n",
    "print(x) \n",
    "print(\"The mean of the array is : \")\n",
    "print(np.mean(x)) "
   ]
  },
  {
   "cell_type": "code",
   "execution_count": 16,
   "metadata": {},
   "outputs": [
    {
     "name": "stdout",
     "output_type": "stream",
     "text": [
      "The input array is : \n",
      "[22, 2, 17, 11, 34]\n",
      "The standard deviation of the Input Array is: \n",
      "10.721940122944167\n",
      "\n",
      "To get More precision with float32\n",
      "Thus std of array is :  10.72194\n",
      "\n",
      "To get More accuracy with float64\n",
      "The std of array is :  10.721940122944167\n"
     ]
    }
   ],
   "source": [
    "\n",
    "#std 標準偏差\n",
    "inp = [22, 2, 17, 11, 34] \n",
    "\n",
    "print(\"The input array is : \")\n",
    "print(inp)\n",
    "print(\"The standard deviation of the Input Array is: \")\n",
    "print(np.std(inp)) \n",
    "\n",
    "print (\"\\nTo get More precision with float32\") \n",
    "print(\"Thus std of array is : \", np.std(inp, dtype = np.float32)) \n",
    "\n",
    "print (\"\\nTo get More accuracy with float64\") \n",
    "print(\"The std of array is : \", np.std(inp, dtype = np.float64))"
   ]
  },
  {
   "cell_type": "code",
   "execution_count": 15,
   "metadata": {},
   "outputs": [
    {
     "name": "stdout",
     "output_type": "stream",
     "text": [
      "The array is:\n",
      " [[11  2]\n",
      " [13 44]]\n",
      "Standard Deviation is :\n",
      "15.850867484147358\n",
      "Standard Deviation along axis 0:\n",
      "[ 1. 21.]\n",
      "Standard Deviation along axis 1:\n",
      "[ 4.5 15.5]\n"
     ]
    }
   ],
   "source": [
    "\n",
    "a = np.array([[11, 2], [13, 44]])\n",
    "print(\"The array is:\\n\",a)\n",
    "print(\"Standard Deviation is :\")\n",
    "print(np.std(a))\n",
    "\n",
    "print(\"Standard Deviation along axis 0:\")\n",
    "print(np.std(a, axis=0))\n",
    "print(\"Standard Deviation along axis 1:\")\n",
    "print(np.std(a, axis=1))"
   ]
  }
 ],
 "metadata": {
  "kernelspec": {
   "display_name": "Python 3.10.6 ('ml')",
   "language": "python",
   "name": "python3"
  },
  "language_info": {
   "codemirror_mode": {
    "name": "ipython",
    "version": 3
   },
   "file_extension": ".py",
   "mimetype": "text/x-python",
   "name": "python",
   "nbconvert_exporter": "python",
   "pygments_lexer": "ipython3",
   "version": "3.10.6"
  },
  "orig_nbformat": 4,
  "vscode": {
   "interpreter": {
    "hash": "cf1d9465f6502f177b365be3304d09fdeffdb2bc4d9e067aaaa01fb948a8cbd7"
   }
  }
 },
 "nbformat": 4,
 "nbformat_minor": 2
}
