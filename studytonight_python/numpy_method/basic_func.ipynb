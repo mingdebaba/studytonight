{
 "cells": [
  {
   "cell_type": "code",
   "execution_count": 1,
   "metadata": {},
   "outputs": [],
   "source": [
    "import numpy as np"
   ]
  },
  {
   "cell_type": "code",
   "execution_count": 2,
   "metadata": {},
   "outputs": [
    {
     "name": "stdout",
     "output_type": "stream",
     "text": [
      "The Output is : [ 2  4  6  8 10]\n"
     ]
    }
   ],
   "source": [
    "a=np.arange(start=2, stop=12, step=2)\n",
    "print(\"The Output is :\",a)"
   ]
  },
  {
   "cell_type": "code",
   "execution_count": 3,
   "metadata": {},
   "outputs": [
    {
     "name": "stdout",
     "output_type": "stream",
     "text": [
      "The Output is : [ 2  3  4  5  6  7  8  9 10 11]\n"
     ]
    }
   ],
   "source": [
    "a=np.arange(start=2, stop=12)\n",
    "print(\"The Output is :\",a)"
   ]
  },
  {
   "cell_type": "code",
   "execution_count": 4,
   "metadata": {},
   "outputs": [
    {
     "name": "stdout",
     "output_type": "stream",
     "text": [
      "The output is:\n",
      "[-10  -9  -8  -7  -6  -5  -4  -3  -2]\n"
     ]
    }
   ],
   "source": [
    "a=np.arange(-10, -1)\n",
    "print(\"The output is:\")\n",
    "print(a)"
   ]
  },
  {
   "cell_type": "code",
   "execution_count": 6,
   "metadata": {},
   "outputs": [
    {
     "name": "stdout",
     "output_type": "stream",
     "text": [
      "The Original array : \n",
      " [ 0  1  2  3  4  5  6  7  8  9 10 11]\n",
      "\n",
      " The reshaped array with 2 rows and 6 columns : \n",
      " [[ 0  1  2  3  4  5]\n",
      " [ 6  7  8  9 10 11]]\n",
      "\n",
      " The reshaped array with 6 rows and 2 columns : \n",
      " [[ 0  1]\n",
      " [ 2  3]\n",
      " [ 4  5]\n",
      " [ 6  7]\n",
      " [ 8  9]\n",
      " [10 11]]\n",
      "\n",
      "After reshaping the original array to 3D : \n",
      " [[[ 0  1]\n",
      "  [ 2  3]\n",
      "  [ 4  5]]\n",
      "\n",
      " [[ 6  7]\n",
      "  [ 8  9]\n",
      "  [10 11]]]\n"
     ]
    }
   ],
   "source": [
    "#reshape\n",
    "a = np.arange(12) \n",
    "print(\"The Original array : \\n\", a) \n",
    "\n",
    "a1= np.arange(12).reshape(2, 6) \n",
    "print(\"\\n The reshaped array with 2 rows and 6 columns : \\n\", a1) \n",
    "\n",
    "a2 = np.arange(12).reshape(6,2) \n",
    "print(\"\\n The reshaped array with 6 rows and 2 columns : \\n\", a2) \n",
    "\n",
    "a3 = np.arange(12).reshape(2, 3, 2) \n",
    "print(\"\\nAfter reshaping the original array to 3D : \\n\", a3) "
   ]
  },
  {
   "cell_type": "code",
   "execution_count": 7,
   "metadata": {},
   "outputs": [
    {
     "name": "stdout",
     "output_type": "stream",
     "text": [
      "The array is :\n",
      " [ 0  1  2  3  4  5  6  7  8  9 10 11]\n",
      "Reshaping the original array using F-like index ordering\n",
      "[[ 0  4  8]\n",
      " [ 1  5  9]\n",
      " [ 2  6 10]\n",
      " [ 3  7 11]]\n"
     ]
    }
   ],
   "source": [
    "x = np.arange(12)  \n",
    "print(\"The array is :\\n\",x)\n",
    "y = np.reshape(x, (4, 3), order='F')  \n",
    "print(\"Reshaping the original array using F-like index ordering\")\n",
    "print(y)"
   ]
  },
  {
   "cell_type": "code",
   "execution_count": 8,
   "metadata": {},
   "outputs": [
    {
     "name": "stdout",
     "output_type": "stream",
     "text": [
      "The array is :\n",
      " [ 0  1  2  3  4  5  6  7  8  9 10 11]\n",
      "Reshaping the original array using C-like index ordering\n",
      "[[ 0  1  2]\n",
      " [ 3  4  5]\n",
      " [ 6  7  8]\n",
      " [ 9 10 11]]\n"
     ]
    }
   ],
   "source": [
    "x = np.arange(12)  \n",
    "print(\"The array is :\\n\",x)\n",
    "y = np.reshape(x, (4, 3), order='C')  \n",
    "print(\"Reshaping the original array using C-like index ordering\")\n",
    "print(y)"
   ]
  },
  {
   "cell_type": "code",
   "execution_count": 9,
   "metadata": {},
   "outputs": [
    {
     "name": "stdout",
     "output_type": "stream",
     "text": [
      "The first array:\n",
      " [[1 2 3]\n",
      " [7 8 9]]\n",
      "The second array:\n",
      " [[11 21 31]\n",
      " [42 52 62]]\n",
      "The resultant array after appending a & b:\n"
     ]
    },
    {
     "data": {
      "text/plain": [
       "array([ 1,  2,  3,  7,  8,  9, 11, 21, 31, 42, 52, 62])"
      ]
     },
     "execution_count": 9,
     "metadata": {},
     "output_type": "execute_result"
    }
   ],
   "source": [
    "a = np.array([[1, 2, 3], [7, 8, 9]])  \n",
    "b = np.array([[11, 21, 31], [42, 52, 62]])  \n",
    "print(\"The first array:\\n\",a)\n",
    "print(\"The second array:\\n\",b)\n",
    "print(\"The resultant array after appending a & b:\")\n",
    "c = np.append(a,b)  \n",
    "c  "
   ]
  },
  {
   "cell_type": "code",
   "execution_count": 11,
   "metadata": {},
   "outputs": [
    {
     "name": "stdout",
     "output_type": "stream",
     "text": [
      "The first array:\n",
      " [[1 2 3]\n",
      " [7 8 9]]\n",
      "The second array:\n",
      " [[11 21 31]\n",
      " [42 52 62]]\n",
      "The resultant array after appending a & b:\n"
     ]
    },
    {
     "data": {
      "text/plain": [
       "array([[ 1,  2,  3],\n",
       "       [ 7,  8,  9],\n",
       "       [11, 21, 31],\n",
       "       [42, 52, 62]])"
      ]
     },
     "execution_count": 11,
     "metadata": {},
     "output_type": "execute_result"
    }
   ],
   "source": [
    "a=np.array([[1, 2, 3], [7, 8, 9]])\n",
    "b=np.array([[11, 21, 31], [42, 52, 62]])\n",
    "print(\"The first array:\\n\",a)\n",
    "print(\"The second array:\\n\",b)\n",
    "print(\"The resultant array after appending a & b:\")\n",
    "c=np.append(a,b,axis=0)  \n",
    "c"
   ]
  },
  {
   "cell_type": "code",
   "execution_count": 12,
   "metadata": {},
   "outputs": [
    {
     "name": "stdout",
     "output_type": "stream",
     "text": [
      "The first array:\n",
      " [[1 2 3]\n",
      " [7 8 9]]\n",
      "The second array:\n",
      " [[11 21 31]\n",
      " [42 52 62]]\n",
      "The resultant array after appending a & b:\n"
     ]
    },
    {
     "data": {
      "text/plain": [
       "array([[ 1,  2,  3, 11, 21, 31],\n",
       "       [ 7,  8,  9, 42, 52, 62]])"
      ]
     },
     "execution_count": 12,
     "metadata": {},
     "output_type": "execute_result"
    }
   ],
   "source": [
    "a=np.array([[1, 2, 3], [7, 8, 9]])  \n",
    "b=np.array([[11, 21, 31], [42, 52, 62]])  \n",
    "print(\"The first array:\\n\",a)\n",
    "print(\"The second array:\\n\",b)\n",
    "print(\"The resultant array after appending a & b:\")\n",
    "c=np.append(a,b,axis=1)  \n",
    "c  "
   ]
  },
  {
   "cell_type": "code",
   "execution_count": 13,
   "metadata": {},
   "outputs": [
    {
     "name": "stdout",
     "output_type": "stream",
     "text": [
      "First Array is:\n",
      " [[5 4]\n",
      " [6 8]]\n",
      "Second Array is :\n",
      " [[13  5]\n",
      " [72  9]]\n",
      "The result of concatenation is :\n",
      "[[ 5  4]\n",
      " [ 6  8]\n",
      " [13  5]\n",
      " [72  9]]\n"
     ]
    }
   ],
   "source": [
    "#concatenate()\n",
    "#numpy.concatenate((a1, a2, ...), axis=0, out=None)\n",
    "array1 = np.array([[5, 4], [6, 8]])\n",
    "print(\"First Array is:\\n\",array1)\n",
    "array2 = np.array([[13, 5], [72, 9]])\n",
    "print(\"Second Array is :\\n\",array2)\n",
    "out= np.concatenate((array1, array2), axis = 0)\n",
    "print(\"The result of concatenation is :\")\n",
    "print (out)"
   ]
  },
  {
   "cell_type": "code",
   "execution_count": 14,
   "metadata": {},
   "outputs": [
    {
     "name": "stdout",
     "output_type": "stream",
     "text": [
      "First Array is:\n",
      " [[5 4]\n",
      " [6 8]]\n",
      "Second Array is :\n",
      " [[13  5]\n",
      " [72  9]]\n",
      "The result of concatenation is :\n",
      "[[ 5  4 13  5]\n",
      " [ 6  8 72  9]]\n"
     ]
    }
   ],
   "source": [
    "array1 = np.array([[5, 4], [6, 8]])\n",
    "print(\"First Array is:\\n\",array1)\n",
    "array2 = np.array([[13, 5], [72, 9]])\n",
    "print(\"Second Array is :\\n\",array2)\n",
    "out= np.concatenate((array1, array2), axis = 1)\n",
    "print(\"The result of concatenation is :\")\n",
    "print (out)"
   ]
  },
  {
   "cell_type": "code",
   "execution_count": 16,
   "metadata": {},
   "outputs": [
    {
     "name": "stdout",
     "output_type": "stream",
     "text": [
      "The Array is:\n",
      "[1 4 9]\n"
     ]
    }
   ],
   "source": [
    "a = np.array([1,4,9])\n",
    "print(\"The Array is:\")\n",
    "print(a)"
   ]
  },
  {
   "cell_type": "code",
   "execution_count": 19,
   "metadata": {},
   "outputs": [
    {
     "name": "stdout",
     "output_type": "stream",
     "text": [
      "The Array with more than one dimension:\n",
      "[1.+0.j 7.+0.j 9.+0.j]\n"
     ]
    }
   ],
   "source": [
    "import numpy as np\n",
    "a = np.array([1, 7,9], dtype='complex')\n",
    "print(\"The Array with more than one dimension:\")\n",
    "print(a)"
   ]
  },
  {
   "cell_type": "code",
   "execution_count": 20,
   "metadata": {},
   "outputs": [
    {
     "name": "stdout",
     "output_type": "stream",
     "text": [
      "Before Transpose array is :\n",
      " [[6 2 4]\n",
      " [8 5 6]\n",
      " [7 1 9]]\n",
      "After Transpose the array is:\n",
      " [[6 8 7]\n",
      " [2 5 1]\n",
      " [4 6 9]]\n"
     ]
    }
   ],
   "source": [
    "import numpy as np\n",
    "\n",
    "a = np.array([[6, 2, 4], [8, 5, 6], [7, 1, 9]])\n",
    "print(\"Before Transpose array is :\\n\",a)\n",
    "x=np.transpose(a)\n",
    "print(\"After Transpose the array is:\\n\",x)"
   ]
  },
  {
   "cell_type": "code",
   "execution_count": 29,
   "metadata": {},
   "outputs": [
    {
     "name": "stdout",
     "output_type": "stream",
     "text": [
      "The Input array : \n",
      "[324   2   0   1   5   4   9  78]\n",
      "The Output partitioned array : \n",
      "[  9   1   0   2   5   4  78 324]\n"
     ]
    }
   ],
   "source": [
    "import numpy as np\n",
    "\n",
    "inp_ar = np.array([324,2, 0, 1, 5, 4, 9, 78])\n",
    "print (\"The Input array : \")\n",
    "print(inp_ar)\n",
    "output = np.partition(inp_ar, 6)\n",
    "print (\"The Output partitioned array : \")\n",
    "print(output)"
   ]
  },
  {
   "cell_type": "code",
   "execution_count": 32,
   "metadata": {},
   "outputs": [
    {
     "name": "stdout",
     "output_type": "stream",
     "text": [
      "The Input array is :\n",
      "[70  4  8 11 10 13]\n",
      "The Output Partitioned array is :\n",
      "[ 4  8 10 11 70 13]\n"
     ]
    }
   ],
   "source": [
    "arr = np.array([70, 4, 8, 11, 10, 13])\n",
    "print(\"The Input array is :\")\n",
    "print(arr)\n",
    "\n",
    "output = np.partition(arr, (1, 3))\n",
    "print(\"The Output Partitioned array is :\")\n",
    "print(output)"
   ]
  },
  {
   "cell_type": "code",
   "execution_count": 33,
   "metadata": {},
   "outputs": [
    {
     "name": "stdout",
     "output_type": "stream",
     "text": [
      "the output after applying ceil() is:\n",
      "[2. 3. 1.]\n"
     ]
    }
   ],
   "source": [
    "\n",
    "a = [1.90,2.3,0.6788]\n",
    "y = np.ceil(a)\n",
    "print(\"the output after applying ceil() is:\")\n",
    "print(y)"
   ]
  },
  {
   "cell_type": "code",
   "execution_count": 34,
   "metadata": {},
   "outputs": [
    {
     "name": "stdout",
     "output_type": "stream",
     "text": [
      "the output after applying ceil() is:\n",
      "[-1. -2. -0. 13.]\n"
     ]
    }
   ],
   "source": [
    "import numpy as np\n",
    "\n",
    "a = [-1.90,-2.3,-0.6788,12.34]\n",
    "y = np.ceil(a)\n",
    "print(\"the output after applying ceil() is:\")\n",
    "print(y)"
   ]
  },
  {
   "cell_type": "code",
   "execution_count": 35,
   "metadata": {},
   "outputs": [
    {
     "name": "stdout",
     "output_type": "stream",
     "text": [
      "The array is : [0.23, -1.7, 1.34, -2.334]\n",
      "After applying the floor() method: [ 0. -2.  1. -3.]\n"
     ]
    }
   ],
   "source": [
    "a = [0.23,-1.7,1.34,-2.334]\n",
    "print(\"The array is :\",a)\n",
    "y = np.floor(a)\n",
    "print(\"After applying the floor() method:\",y)"
   ]
  },
  {
   "cell_type": "code",
   "execution_count": 36,
   "metadata": {},
   "outputs": [
    {
     "name": "stdout",
     "output_type": "stream",
     "text": [
      "The Input array is:\n",
      "[1.23, 0.22, -0.111, -2.555, -3.86, 5.0, 6.9]\n",
      "The output array is:\n",
      "[ 1.  0. -1. -3. -4.  5.  6.]\n"
     ]
    }
   ],
   "source": [
    "input_arr = [1.23,0.22,-0.111,-2.555,-3.86,5.0,6.9]\n",
    "print(\"The Input array is:\")\n",
    "print(input_arr)\n",
    "z = np.floor(input_arr)\n",
    "print(\"The output array is:\")\n",
    "print(z)"
   ]
  },
  {
   "cell_type": "code",
   "execution_count": 37,
   "metadata": {},
   "outputs": [
    {
     "name": "stdout",
     "output_type": "stream",
     "text": [
      "[ 1. -0.  5.]\n"
     ]
    }
   ],
   "source": [
    "x = [1.2,-0.344,5.89]\n",
    "y = np.trunc(x)\n",
    "print(y)"
   ]
  },
  {
   "cell_type": "code",
   "execution_count": 38,
   "metadata": {},
   "outputs": [
    {
     "name": "stdout",
     "output_type": "stream",
     "text": [
      "The Input array is :\n",
      "[0.289, 0.089, 1.2, 1.566, 9.909]\n",
      "The Output array is :\n",
      "[0. 0. 1. 1. 9.]\n"
     ]
    }
   ],
   "source": [
    "import numpy as np  \n",
    "  \n",
    "a = [0.289, 0.089, 1.2, 1.566, 9.909]  \n",
    "  \n",
    "print(\"The Input array is :\")  \n",
    "print(a)\n",
    "  \n",
    "y = np.fix(a)  \n",
    "  \n",
    "print(\"The Output array is :\")\n",
    "print(y)"
   ]
  },
  {
   "cell_type": "code",
   "execution_count": 39,
   "metadata": {},
   "outputs": [
    {
     "name": "stdout",
     "output_type": "stream",
     "text": [
      "After applying islower() function:\n",
      "True\n"
     ]
    }
   ],
   "source": [
    "string1 = \"this is an apple\"\n",
    "x = np.char.islower(string1)\n",
    "print(\"After applying islower() function:\")\n",
    "print(x)"
   ]
  },
  {
   "cell_type": "code",
   "execution_count": 40,
   "metadata": {},
   "outputs": [
    {
     "name": "stdout",
     "output_type": "stream",
     "text": [
      "The input array : \n",
      " ['studytonight' 'Online' 'portal']\n",
      "The output array :\n",
      " [ True False  True]\n"
     ]
    }
   ],
   "source": [
    "inp_ar = np.array(['studytonight', 'Online', 'portal'])\n",
    "\n",
    "print (\"The input array : \\n\", inp_ar)\n",
    "\n",
    "output = np.char.islower(inp_ar)\n",
    "print (\"The output array :\\n\", output)"
   ]
  },
  {
   "cell_type": "code",
   "execution_count": 45,
   "metadata": {},
   "outputs": [
    {
     "name": "stdout",
     "output_type": "stream",
     "text": [
      "The array is :\n",
      "  ['xcccccyyysss', 'AAAAAAAaattttdsxxxxcccc', 'AAaaxxxxcccutt', 'AAaaxxccxcxXDSDdscz']\n",
      "\n",
      "The find of 'xc' [ 0 18  7  5]\n",
      "The find of 'xc' [-1 18  7  5]\n",
      "The find of 'xc' [-1 18 -1  8]\n"
     ]
    }
   ],
   "source": [
    "arr = ['xcccccyyysss', 'AAAAAAAaattttdsxxxxcccc', 'AAaaxxxxcccutt', 'AAaaxxccxcxXDSDdscz'] \n",
    "print (\"The array is :\\n \", arr) \n",
    "\n",
    "print (\"\\nThe find of 'xc'\", np.char.find(arr, 'xc')) \n",
    "print (\"The find of 'xc'\", np.char.find(arr, 'xc', start = 3)) \n",
    "print (\"The find of 'xc'\", np.char.find(arr, 'xc', start = 8)) "
   ]
  },
  {
   "cell_type": "code",
   "execution_count": 46,
   "metadata": {},
   "outputs": [
    {
     "name": "stdout",
     "output_type": "stream",
     "text": [
      "The array is :\n",
      "  ['AAAabbbbbxcccccyyysss', 'AAAAAAAaattttds', 'AAaaxcutt', 'AAaaxXDSDdscz']\n",
      "\n",
      "The find of 'xc' [ 9 -1  4 -1]\n",
      "The find of 'xc' [ 9 -1 -1 -1]\n"
     ]
    }
   ],
   "source": [
    "import numpy as np \n",
    "\n",
    "arr = ['AAAabbbbbxcccccyyysss', 'AAAAAAAaattttds', 'AAaaxcutt', 'AAaaxXDSDdscz'] \n",
    "print (\"The array is :\\n \", arr) \n",
    "\n",
    "print (\"\\nThe find of 'xc'\", np.char.find(arr, 'xc')) \n",
    "print (\"The find of 'xc'\", np.char.find(arr, 'xc', start = 8)) "
   ]
  },
  {
   "cell_type": "code",
   "execution_count": 47,
   "metadata": {},
   "outputs": [
    {
     "name": "stdout",
     "output_type": "stream",
     "text": [
      "The original string is:\n",
      " ['ooooaaaaqqqk' 'ccccvvvvvaaaao' 'ggghhhjjjsskkka']\n",
      "\n",
      "The count of 'a' in str1\n",
      "[4 4 1]\n",
      "\n",
      "The count of 'k' in st1:\n",
      "[1 0 3]\n",
      "\n",
      "The count of 'o' in st1:\n",
      "[4 1 0]\n"
     ]
    }
   ],
   "source": [
    "import numpy as np\n",
    "\n",
    "str1 = np.array(['ooooaaaaqqqk','ccccvvvvvaaaao','ggghhhjjjsskkka'])\n",
    "print(\"The original string is:\\n\",str1)\n",
    "print(\"\\nThe count of 'a' in str1\")\n",
    "\n",
    "y = np.char.count(str1,'a')\n",
    "print(y)\n",
    "print(\"\\nThe count of 'k' in st1:\")\n",
    "\n",
    "z = np.char.count(str1,'k')\n",
    "print(z)\n",
    "print(\"\\nThe count of 'o' in st1:\")\n",
    "\n",
    "x = np.char.count(str1,'o')\n",
    "print(x)"
   ]
  },
  {
   "cell_type": "code",
   "execution_count": 48,
   "metadata": {},
   "outputs": [
    {
     "name": "stdout",
     "output_type": "stream",
     "text": [
      "The input array:  ['APPLE' 'Mango' 'guava']\n",
      "The output array: [False  True False]\n"
     ]
    }
   ],
   "source": [
    "inp1 = np.array(['APPLE', 'Mango', 'guava'])\n",
    "print (\"The input array: \", inp1)\n",
    "out1 = np.char.istitle(inp1)\n",
    "print (\"The output array:\", out1 )"
   ]
  },
  {
   "cell_type": "code",
   "execution_count": 52,
   "metadata": {},
   "outputs": [
    {
     "name": "stdout",
     "output_type": "stream",
     "text": [
      "The input array : \n",
      " This Is An Input String\n",
      "The output array :\n",
      " True\n"
     ]
    }
   ],
   "source": [
    "inp2 = \"This Is An Input String\"\n",
    "print (\"The input array : \\n\", inp2)\n",
    "\n",
    "out2 = np.char.istitle(inp2)\n",
    "print (\"The output array :\\n\", out2 )"
   ]
  },
  {
   "cell_type": "code",
   "execution_count": 53,
   "metadata": {},
   "outputs": [
    {
     "name": "stdout",
     "output_type": "stream",
     "text": [
      "Input is : ['aAaAaArt' '  aABbV ' 'abBABba']\n",
      "\n",
      "After encoding:  [b'\\x81\\xc1\\x81\\xc1\\x81\\xc1\\x99\\xa3' b'@@\\x81\\xc1\\xc2\\x82\\xe5@'\n",
      " b'\\x81\\x82\\xc2\\xc1\\xc2\\x82\\x81']\n",
      "\n",
      "After decoding:  ['aAaAaArt' '  aABbV ' 'abBABba']\n"
     ]
    }
   ],
   "source": [
    "x = np.array(['aAaAaArt', '  aABbV ', 'abBABba'])\n",
    "print(\"Input is :\", x)\n",
    "\n",
    "e = np.char.encode(x, encoding='cp500')\n",
    "print(\"\\nAfter encoding: \", e)\n",
    "\n",
    "d = np.char.decode(e, encoding='cp500')\n",
    "print(\"\\nAfter decoding: \", d)"
   ]
  }
 ],
 "metadata": {
  "kernelspec": {
   "display_name": "Python 3.9.7 ('base')",
   "language": "python",
   "name": "python3"
  },
  "language_info": {
   "codemirror_mode": {
    "name": "ipython",
    "version": 3
   },
   "file_extension": ".py",
   "mimetype": "text/x-python",
   "name": "python",
   "nbconvert_exporter": "python",
   "pygments_lexer": "ipython3",
   "version": "3.9.7"
  },
  "orig_nbformat": 4,
  "vscode": {
   "interpreter": {
    "hash": "eeb9bea61e70784f7118683a786bc6c98a5027c9f70149c135d324a83f473243"
   }
  }
 },
 "nbformat": 4,
 "nbformat_minor": 2
}
