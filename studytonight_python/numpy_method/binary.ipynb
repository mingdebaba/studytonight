{
 "cells": [
  {
   "cell_type": "code",
   "execution_count": 1,
   "metadata": {},
   "outputs": [
    {
     "name": "stdout",
     "output_type": "stream",
     "text": [
      "The Input  number is: \n",
      "40\n",
      "The Number of bit shift : \n",
      "2\n",
      "After the shifting of 2 bits to left : \n",
      "160\n"
     ]
    }
   ],
   "source": [
    "import numpy as np\n",
    "\n",
    "#二进制操作\n",
    "input_num = 40\n",
    "bit_shift = 2\n",
    "\n",
    "print (\"The Input  number is: \")\n",
    "print(input_num) \n",
    "print (\"The Number of bit shift : \")\n",
    "print(bit_shift )\n",
    "\n",
    "output = np.left_shift(input_num, bit_shift)\n",
    "print (\"After the shifting of 2 bits to left : \")\n",
    "print(output)"
   ]
  },
  {
   "cell_type": "code",
   "execution_count": 2,
   "metadata": {},
   "outputs": [
    {
     "name": "stdout",
     "output_type": "stream",
     "text": [
      "The Input array is: \n",
      "[8, 28, 55]\n",
      "The Number of bit shift : \n",
      "[3, 4, 2]\n",
      "After right shifting of bits,the output array is: \n",
      "[ 1  1 13]\n"
     ]
    }
   ],
   "source": [
    "import numpy as np\n",
    "\n",
    "input_arr = [8, 28, 55] \n",
    "bit_shift =[3, 4, 2] \n",
    "print (\"The Input array is: \")\n",
    "print(input_arr) \n",
    "print (\"The Number of bit shift : \")\n",
    "print(bit_shift )  \n",
    "    \n",
    "output = np.right_shift(input_arr, bit_shift)  \n",
    "print (\"After right shifting of bits,the output array is: \")\n",
    "print(output)  "
   ]
  }
 ],
 "metadata": {
  "kernelspec": {
   "display_name": "Python 3.9.7 ('base')",
   "language": "python",
   "name": "python3"
  },
  "language_info": {
   "codemirror_mode": {
    "name": "ipython",
    "version": 3
   },
   "file_extension": ".py",
   "mimetype": "text/x-python",
   "name": "python",
   "nbconvert_exporter": "python",
   "pygments_lexer": "ipython3",
   "version": "3.9.7"
  },
  "orig_nbformat": 4,
  "vscode": {
   "interpreter": {
    "hash": "eeb9bea61e70784f7118683a786bc6c98a5027c9f70149c135d324a83f473243"
   }
  }
 },
 "nbformat": 4,
 "nbformat_minor": 2
}
