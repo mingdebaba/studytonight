{
 "cells": [
  {
   "cell_type": "code",
   "execution_count": 1,
   "metadata": {},
   "outputs": [],
   "source": [
    "import numpy as np"
   ]
  },
  {
   "cell_type": "code",
   "execution_count": 2,
   "metadata": {},
   "outputs": [
    {
     "data": {
      "text/plain": [
       "array([ 1,  2,  4,  5,  8, 10])"
      ]
     },
     "execution_count": 2,
     "metadata": {},
     "output_type": "execute_result"
    }
   ],
   "source": [
    "mylist = [1, 2,4,5,8,10]\n",
    "np.asarray(mylist)"
   ]
  },
  {
   "cell_type": "code",
   "execution_count": 3,
   "metadata": {},
   "outputs": [
    {
     "name": "stdout",
     "output_type": "stream",
     "text": [
      "The output is:\n",
      "[10  9  1  2  3  4  5  6  7  8]\n",
      "The datatype of output is:\n",
      "<class 'numpy.ndarray'>\n"
     ]
    }
   ],
   "source": [
    "inp = (10,9,1,2,3,4,5,6,7,8)     \n",
    "a = np.asarray(inp); \n",
    "print(\"The output is:\")\n",
    "print(a)  \n",
    "print(\"The datatype of output is:\")\n",
    "print(type(a))  "
   ]
  },
  {
   "cell_type": "code",
   "execution_count": 4,
   "metadata": {},
   "outputs": [
    {
     "name": "stdout",
     "output_type": "stream",
     "text": [
      "The data type of output is:\n",
      "<class 'numpy.ndarray'>\n",
      "The output array is:\n",
      "[list([1, 2, 3, 4, 5, 6, 7]) list([8, 9]) list([12, 34, 45])]\n"
     ]
    },
    {
     "name": "stderr",
     "output_type": "stream",
     "text": [
      "C:\\Users\\PC095\\AppData\\Local\\Temp\\ipykernel_20568\\2852817206.py:4: VisibleDeprecationWarning: Creating an ndarray from ragged nested sequences (which is a list-or-tuple of lists-or-tuples-or ndarrays with different lengths or shapes) is deprecated. If you meant to do this, you must specify 'dtype=object' when creating the ndarray.\n",
      "  a = np.asarray(l);\n"
     ]
    }
   ],
   "source": [
    "import numpy as np  \n",
    "\n",
    "l = [[1,2,3,4,5,6,7],[8,9],[12,34,45]]  \n",
    "a = np.asarray(l);\n",
    "print(\"The data type of output is:\")\n",
    "print(type(a))  \n",
    "print(\"The output array is:\")\n",
    "print(a)  "
   ]
  },
  {
   "cell_type": "code",
   "execution_count": 5,
   "metadata": {},
   "outputs": [
    {
     "name": "stdout",
     "output_type": "stream",
     "text": [
      "The type of input is:\n",
      "<class 'bytes'>\n",
      "The Output is:\n",
      "[b'W' b'e' b'l' b'c' b'o' b'm' b'e' b' ' b't' b'o' b' ' b'S' b't' b'u'\n",
      " b'd' b'y' b'T' b'o' b'n' b'i' b'g' b'h' b't' b'!' b'!' b'!' b'I' b't'\n",
      " b' ' b'i' b's' b' ' b'a' b' ' b'b' b'e' b's' b't' b' ' b'p' b'l' b'a'\n",
      " b'c' b'e' b' ' b'f' b'o' b'r' b' ' b'y' b'o' b'u' b' ' b't' b'o' b' '\n",
      " b'l' b'e' b'a' b'r' b'n' b' ' b'c' b'o' b'd' b'i' b'n' b'g' b' ' b'o'\n",
      " b'n' b'l' b'i' b'n' b'e' b'.' b'.']\n",
      "Type of Output is:\n",
      "<class 'numpy.ndarray'>\n"
     ]
    }
   ],
   "source": [
    "input = b'Welcome to StudyTonight!!!It is a best place for you to learn coding online..'  \n",
    "print(\"The type of input is:\") \n",
    "print(type(input))\n",
    "\n",
    "#np.frombuffer()实现动态数组\n",
    "#将data以流的形式读入转化成ndarray对象\n",
    "#numpy.frombuffer(buffer, dtype=float, count=-1, offset=0)\n",
    "#buffer:缓冲区，它表示暴露缓冲区接口的对象。\n",
    "#dtype：代表返回的数据类型数组的数据类型。默认值为0。\n",
    "#count：代表返回的ndarray的长度。默认值为-1。\n",
    "#offset：偏移量，代表读取的起始位置。默认值为0。\n",
    "\n",
    "a = np.frombuffer(input, dtype = \"S1\")  \n",
    "print(\"The Output is:\") \n",
    "print(a)\n",
    "\n",
    "print(\"Type of Output is:\")\n",
    "print(type(a))  "
   ]
  },
  {
   "cell_type": "code",
   "execution_count": 8,
   "metadata": {},
   "outputs": [
    {
     "name": "stdout",
     "output_type": "stream",
     "text": [
      "The array over the given range is \n",
      "[1.09951163e+12 1.10823828e+13 1.11703419e+14 1.12589991e+15\n",
      " 1.13483599e+16 1.14384301e+17 1.15292150e+18]\n"
     ]
    }
   ],
   "source": [
    "#np.logspace()一般用于构造等比数列。\n",
    "#构造等比数列\n",
    "arr = np.logspace(20, 30, num = 7,base = 4, endpoint = True)  \n",
    "print(\"The array over the given range is \")\n",
    "print(arr)"
   ]
  },
  {
   "cell_type": "code",
   "execution_count": 10,
   "metadata": {},
   "outputs": [
    {
     "name": "stdout",
     "output_type": "stream",
     "text": [
      "[ 0.   2.5  5.   7.5 10. ]\n",
      "[ 0.   2.5  5.   7.5 10. ]\n"
     ]
    },
    {
     "data": {
      "image/png": "[encoded data removed]",
      "text/plain": [
       "<Figure size 640x480 with 1 Axes>"
      ]
     },
     "metadata": {},
     "output_type": "display_data"
    }
   ],
   "source": [
    "#numpy.linspace()函数用于在线性空间中以均匀步长生成数字序列\n",
    "import numpy as np\n",
    "import matplotlib.pyplot as plt\n",
    " \n",
    "y = np.zeros(5)\n",
    "x1 = np.linspace(0, 10, 5)\n",
    "x2 = np.linspace(0, 10, 5)\n",
    "print(x1)\n",
    "print(x2)\n",
    "plt.plot(x1, y, 'o')\n",
    "plt.plot(x2, y + 0.5, 'o')\n",
    "plt.ylim([-0.5, 1])\n",
    "plt.show()"
   ]
  },
  {
   "cell_type": "code",
   "execution_count": 11,
   "metadata": {},
   "outputs": [
    {
     "name": "stdout",
     "output_type": "stream",
     "text": [
      "The output array is :\n",
      "[ 0.  2.  4.  9. 10.  8.]\n",
      "The type of output array is:\n",
      "<class 'numpy.ndarray'>\n"
     ]
    }
   ],
   "source": [
    "#从可迭代对象创建新的一维数组。\n",
    "a = [0,2,4,9,10,8]  \n",
    "it = iter(a)  \n",
    "x = np.fromiter(it, dtype = float)  \n",
    "\n",
    "print(\"The output array is :\")\n",
    "print(x)  \n",
    "\n",
    "print(\"The type of output array is:\")\n",
    "print(type(x))  "
   ]
  }
 ],
 "metadata": {
  "kernelspec": {
   "display_name": "Python 3.10.6 ('ml')",
   "language": "python",
   "name": "python3"
  },
  "language_info": {
   "codemirror_mode": {
    "name": "ipython",
    "version": 3
   },
   "file_extension": ".py",
   "mimetype": "text/x-python",
   "name": "python",
   "nbconvert_exporter": "python",
   "pygments_lexer": "ipython3",
   "version": "3.10.6"
  },
  "orig_nbformat": 4,
  "vscode": {
   "interpreter": {
    "hash": "cf1d9465f6502f177b365be3304d09fdeffdb2bc4d9e067aaaa01fb948a8cbd7"
   }
  }
 },
 "nbformat": 4,
 "nbformat_minor": 2
}
