{
 "cells": [
  {
   "cell_type": "code",
   "execution_count": 2,
   "metadata": {},
   "outputs": [],
   "source": [
    "import numpy as np"
   ]
  },
  {
   "cell_type": "code",
   "execution_count": 3,
   "metadata": {},
   "outputs": [
    {
     "name": "stdout",
     "output_type": "stream",
     "text": [
      "Input is:\n",
      "['aAaAaA', '  aA  ', 'abBABba', 'dffgs', 'ttsred']\n",
      "Encoded String is:\n",
      "[b'\\x81\\xc1\\x81\\xc1\\x81\\xc1' b'@@\\x81\\xc1@@'\n",
      " b'\\x81\\x82\\xc2\\xc1\\xc2\\x82\\x81' b'\\x84\\x86\\x86\\x87\\xa2'\n",
      " b'\\xa3\\xa3\\xa2\\x99\\x85\\x84']\n"
     ]
    }
   ],
   "source": [
    "a = ['aAaAaA', '  aA  ', 'abBABba','dffgs','ttsred']\n",
    "print(\"Input is:\")\n",
    "print(a)\n",
    "\n",
    "x = np.char.encode(a, encoding='cp037', errors=None)\n",
    "print(\"Encoded String is:\")\n",
    "print(x)"
   ]
  },
  {
   "cell_type": "code",
   "execution_count": 4,
   "metadata": {},
   "outputs": [
    {
     "name": "stdout",
     "output_type": "stream",
     "text": [
      "The original string is:\n",
      " It is a yellow chair\n",
      "After applying replace() function:\n",
      "This is a yellow chair\n"
     ]
    }
   ],
   "source": [
    "import numpy as np\n",
    "\n",
    "string1=\"It is a yellow chair\"\n",
    "print(\"The original string is:\\n\",string1)\n",
    "\n",
    "x = np.char.replace(string1, 'It', 'This')\n",
    "print(\"After applying replace() function:\")\n",
    "print(x)"
   ]
  },
  {
   "cell_type": "code",
   "execution_count": 5,
   "metadata": {},
   "outputs": [
    {
     "name": "stdout",
     "output_type": "stream",
     "text": [
      "The original string is:\n",
      " This is a chair.The color of the chair is yellow\n",
      "After applying replace() function:\n",
      "This is a book.The color of the chair is yellow\n"
     ]
    }
   ],
   "source": [
    "import numpy as np\n",
    "\n",
    "string1=\"This is a chair.The color of the chair is yellow\"\n",
    "print(\"The original string is:\\n\",string1)\n",
    "\n",
    "x = np.char.replace(string1, 'chair', 'book', count=1)\n",
    "print(\"After applying replace() function:\")\n",
    "print(x)"
   ]
  },
  {
   "cell_type": "code",
   "execution_count": 6,
   "metadata": {},
   "outputs": [
    {
     "name": "stdout",
     "output_type": "stream",
     "text": [
      "After applying splitlines() function:\n",
      "['Studytonight ', ' is a best place ', ' to learn coding online']\n"
     ]
    }
   ],
   "source": [
    "string1 = \"Studytonight \\n is a best place \\n to learn coding online\"\n",
    "out = np.char.splitlines(string1) \n",
    "print(\"After applying splitlines() function:\")\n",
    "print(out)"
   ]
  },
  {
   "cell_type": "code",
   "execution_count": 7,
   "metadata": {},
   "outputs": [
    {
     "name": "stdout",
     "output_type": "stream",
     "text": [
      "['The quick brown ', 'fox jumps over ', 'the lazy dog.']\n"
     ]
    }
   ],
   "source": [
    "import numpy as np\n",
    "\n",
    "x = np.char.splitlines('The quick brown \\rfox jumps over \\rthe lazy dog.', keepends=False)\n",
    "print(x) "
   ]
  },
  {
   "cell_type": "code",
   "execution_count": 8,
   "metadata": {},
   "outputs": [
    {
     "name": "stdout",
     "output_type": "stream",
     "text": [
      "The Input arrays are : \n",
      "['Hello']\n",
      "['StudyTonight!']\n",
      "\n",
      "The Resultant concatenated array is :\n",
      "['HelloStudyTonight!']\n"
     ]
    }
   ],
   "source": [
    "import numpy as np \n",
    "\n",
    "x1 = ['Hello'] \n",
    "x2 = ['StudyTonight!'] \n",
    "print(\"The Input arrays are : \") \n",
    "print(x1) \n",
    "print(x2) \n",
    "\n",
    "result = np.char.add(x1, x2) \n",
    "print(\"\\nThe Resultant concatenated array is :\") \n",
    "print(result)"
   ]
  },
  {
   "cell_type": "code",
   "execution_count": 9,
   "metadata": {},
   "outputs": [
    {
     "name": "stdout",
     "output_type": "stream",
     "text": [
      "The Input arrays are : \n",
      "['Welcome', 'to', 'StudyTonight']\n",
      "['Best Place', 'Forlearning', 'Coding']\n",
      "\n",
      "The Resultant concatenated array is :\n",
      "['WelcomeBest Place' 'toForlearning' 'StudyTonightCoding']\n"
     ]
    }
   ],
   "source": [
    "x1 = ['Welcome', 'to', 'StudyTonight'] \n",
    "x2 = ['Best Place', 'Forlearning', 'Coding'] \n",
    "print(\"The Input arrays are : \") \n",
    "print(x1) \n",
    "print(x2) \n",
    "\n",
    "result = np.char.add(x1, x2) \n",
    "print(\"\\nThe Resultant concatenated array is :\") \n",
    "print(result)"
   ]
  },
  {
   "cell_type": "code",
   "execution_count": 10,
   "metadata": {},
   "outputs": [
    {
     "name": "stdout",
     "output_type": "stream",
     "text": [
      "The Original Array is :\n",
      "['Study']\n",
      "\n",
      "The New array is:\n",
      "['StudyStudyStudyStudyStudy']\n"
     ]
    }
   ],
   "source": [
    "arr = np.array(['Study']) \n",
    "print(\"The Original Array is :\") \n",
    "print(arr) \n",
    "\n",
    "i = 5\n",
    "\n",
    "output = np.char.multiply(arr, i) \n",
    "print(\"\\nThe New array is:\") \n",
    "print(output)"
   ]
  },
  {
   "cell_type": "code",
   "execution_count": 11,
   "metadata": {},
   "outputs": [
    {
     "name": "stdout",
     "output_type": "stream",
     "text": [
      "The Original Array :\n",
      "['StudyTonight' 'Online' 'Portal']\n",
      "\n",
      "The Resultant array :\n",
      "['StudyTonightStudyTonight' 'OnlineOnline' 'PortalPortal']\n"
     ]
    }
   ],
   "source": [
    "arr= np.array(['StudyTonight', 'Online', 'Portal']) \n",
    "print(\"The Original Array :\") \n",
    "print(arr) \n",
    "\n",
    "i = 2\n",
    "\n",
    "output = np.char.multiply(arr, i) \n",
    "print(\"\\nThe Resultant array :\") \n",
    "print(output)"
   ]
  },
  {
   "cell_type": "code",
   "execution_count": 12,
   "metadata": {},
   "outputs": [
    {
     "name": "stdout",
     "output_type": "stream",
     "text": [
      "Padding the Inut string through left and right with the fill char ^:\n",
      "^^^^^^^^StudyTonight!^^^^^^^^^\n"
     ]
    }
   ],
   "source": [
    "a1 = \"StudyTonight!\"\n",
    "print(\"Padding the Inut string through left and right with the fill char ^:\");  \n",
    "x = np.char.center(a1, 30, '^')\n",
    "print(x)"
   ]
  },
  {
   "cell_type": "code",
   "execution_count": 14,
   "metadata": {},
   "outputs": [
    {
     "name": "stdout",
     "output_type": "stream",
     "text": [
      "The Original Array :\n",
      "['StudyTonight' 'Online' 'Portal']\n",
      "\n",
      "The Resultant array :\n",
      "['^^^^StudyTonight^^^^' '^^^^^^^Online^^^^^^^' '^^^^^^^Portal^^^^^^^']\n"
     ]
    }
   ],
   "source": [
    "arr= np.array(['StudyTonight', 'Online', 'Portal']) \n",
    "print(\"The Original Array :\") \n",
    "print(arr) \n",
    "\n",
    "output = np.char.center(arr, 20, '^')\n",
    "print(\"\\nThe Resultant array :\") \n",
    "print(output)"
   ]
  },
  {
   "cell_type": "code",
   "execution_count": 15,
   "metadata": {},
   "outputs": [
    {
     "name": "stdout",
     "output_type": "stream",
     "text": [
      "The Joined string in the output:\n",
      "D:G\n"
     ]
    }
   ],
   "source": [
    "a = np.char.join(':','DG')\n",
    "print(\"The Joined string in the output:\")\n",
    "print(a)"
   ]
  },
  {
   "cell_type": "code",
   "execution_count": 16,
   "metadata": {},
   "outputs": [
    {
     "name": "stdout",
     "output_type": "stream",
     "text": [
      "The original Input array : \n",
      " ['Apple' 'Python' 'NumPy' 'StudyTonight']\n",
      "The Output joined array:  ['A^p^p^l^e' 'P+y+t+h+o+n' 'N*u*m*P*y' 'S-t-u-d-y-T-o-n-i-g-h-t']\n"
     ]
    }
   ],
   "source": [
    "inp = np.array(['Apple', 'Python', 'NumPy','StudyTonight']) \n",
    "print (\"The original Input array : \\n\", inp) \n",
    "\n",
    "sep = np.array(['^', '+', '*','-']) \n",
    "\n",
    "output= np.char.join(sep, inp) \n",
    "print (\"The Output joined array: \", output) "
   ]
  },
  {
   "cell_type": "code",
   "execution_count": 17,
   "metadata": {},
   "outputs": [
    {
     "name": "stdout",
     "output_type": "stream",
     "text": [
      "The original Input array : \n",
      " ['Apple' 'Python' 'NumPy' 'StudyTonight']\n",
      "The Output joined array:  ['A^^^p^^^p^^^l^^^e' 'P^^^y^^^t^^^h^^^o^^^n' 'N^^^u^^^m^^^P^^^y'\n",
      " 'S^^^t^^^u^^^d^^^y^^^T^^^o^^^n^^^i^^^g^^^h^^^t']\n"
     ]
    }
   ],
   "source": [
    "inp = np.array(['Apple', 'Python', 'NumPy','StudyTonight']) \n",
    "print (\"The original Input array : \\n\", inp) \n",
    "\n",
    "sep = np.array(['^^^']) \n",
    "\n",
    "output= np.char.join(sep, inp) \n",
    "print (\"The Output joined array: \", output) "
   ]
  },
  {
   "cell_type": "code",
   "execution_count": 18,
   "metadata": {},
   "outputs": [
    {
     "name": "stdout",
     "output_type": "stream",
     "text": [
      "The input is :\n",
      " How you doing?\n",
      "after applying split() method output is:\n",
      " ['How', 'you', 'doing?']\n"
     ]
    }
   ],
   "source": [
    "a = \"How you doing?\"\n",
    "print(\"The input is :\\n\",a)\n",
    "\n",
    "y = np.char.split(a)\n",
    "print(\"after applying split() method output is:\\n\",y)"
   ]
  },
  {
   "cell_type": "code",
   "execution_count": 19,
   "metadata": {},
   "outputs": [
    {
     "name": "stdout",
     "output_type": "stream",
     "text": [
      "The String is:\n",
      " We, very happily, welcome you all!\n",
      "The output is: ['We', ' very happily, welcome you all!']\n"
     ]
    }
   ],
   "source": [
    "x = \"We, very happily, welcome you all!\"\n",
    "print(\"The String is:\\n\", x)\n",
    "\n",
    "out = np.char.split(x, sep=',', maxsplit=1)\n",
    "print(\"The output is:\", out)\n"
   ]
  },
  {
   "cell_type": "code",
   "execution_count": 20,
   "metadata": {},
   "outputs": [
    {
     "name": "stdout",
     "output_type": "stream",
     "text": [
      "The original Input array : \n",
      " ['Dance-Tonight' 'Sleep-Tonight' 'Walk-Tonight' 'Study-Tonight']\n",
      "The output split array:  [list(['Dance', 'Tonight']) list(['Sleep', 'Tonight'])\n",
      " list(['Walk', 'Tonight']) list(['Study', 'Tonight'])]\n"
     ]
    }
   ],
   "source": [
    "\n",
    "inp = np.array(['Dance-Tonight', 'Sleep-Tonight', 'Walk-Tonight','Study-Tonight']) \n",
    "print (\"The original Input array : \\n\", inp) \n",
    "\n",
    "output= np.char.split(inp, sep='-', maxsplit=1)\n",
    "print (\"The output split array: \", output)"
   ]
  },
  {
   "cell_type": "code",
   "execution_count": 21,
   "metadata": {},
   "outputs": [
    {
     "name": "stdout",
     "output_type": "stream",
     "text": [
      "The original string:\n",
      "this is my string\n",
      "\n",
      "\n",
      "Applying title() method :\n",
      "This Is My String\n"
     ]
    }
   ],
   "source": [
    "import numpy as np  \n",
    "\n",
    "a = \"this is my string\"\n",
    "print(\"The original string:\")\n",
    "print(a)\n",
    "print(\"\\n\")\n",
    "print(\"Applying title() method :\")  \n",
    "\n",
    "x = np.char.title(a)\n",
    "print(x)"
   ]
  },
  {
   "cell_type": "code",
   "execution_count": 22,
   "metadata": {},
   "outputs": [
    {
     "name": "stdout",
     "output_type": "stream",
     "text": [
      "The original string:\n",
      "Titlecased StrINg \n",
      "\n",
      "\n",
      "Applying title() method :\n",
      "Titlecased String \n"
     ]
    }
   ],
   "source": [
    "a = \"Titlecased StrINg \"\n",
    "print(\"The original string:\")\n",
    "print(a)\n",
    "print(\"\\n\")\n",
    "print(\"Applying title() method :\")  \n",
    "\n",
    "x = np.char.title(a)\n",
    "print(x)"
   ]
  },
  {
   "cell_type": "code",
   "execution_count": 23,
   "metadata": {},
   "outputs": [
    {
     "name": "stdout",
     "output_type": "stream",
     "text": [
      "The original Input array : \n",
      " ['what aRE YOUR' 'plans for Tonight' 'will you' 'study tonight']\n",
      "The output titlecased array:  ['What Are Your' 'Plans For Tonight' 'Will You' 'Study Tonight']\n"
     ]
    }
   ],
   "source": [
    "arr = np.array(['what aRE YOUR', 'plans for Tonight', 'will you','study tonight']) \n",
    "print (\"The original Input array : \\n\", arr) \n",
    "\n",
    "output = np.char.title(arr)\n",
    "print (\"The output titlecased array: \", output)"
   ]
  },
  {
   "cell_type": "code",
   "execution_count": 24,
   "metadata": {},
   "outputs": [
    {
     "name": "stdout",
     "output_type": "stream",
     "text": [
      "The original string:\n",
      "THIS IS A String in NUMPY\n",
      "\n",
      "\n",
      "Applying lower() method :\n",
      "this is a string in numpy\n"
     ]
    }
   ],
   "source": [
    "a = \"THIS IS A String in NUMPY\"\n",
    "print(\"The original string:\")\n",
    "print(a)\n",
    "print(\"\\n\")\n",
    "print(\"Applying lower() method :\")  \n",
    "\n",
    "x = np.char.lower(a)\n",
    "print(x)"
   ]
  },
  {
   "cell_type": "code",
   "execution_count": 25,
   "metadata": {},
   "outputs": [
    {
     "name": "stdout",
     "output_type": "stream",
     "text": [
      "The original Input array : \n",
      " ['what aRE YOUR' 'Plans for Tonight' 'WILL you' 'Studyonight']\n",
      "The output lowercased array:  ['what are your' 'plans for tonight' 'will you' 'studyonight']\n"
     ]
    }
   ],
   "source": [
    "arr = np.array(['what aRE YOUR', 'Plans for Tonight', 'WILL you','Studyonight']) \n",
    "print (\"The original Input array : \\n\", arr) \n",
    "\n",
    "output = np.char.lower(arr)\n",
    "print (\"The output lowercased array: \", output)"
   ]
  },
  {
   "cell_type": "code",
   "execution_count": 26,
   "metadata": {},
   "outputs": [
    {
     "name": "stdout",
     "output_type": "stream",
     "text": [
      "After applying isupper() Function:\n",
      "True\n"
     ]
    }
   ],
   "source": [
    "string1 = \"THIS IS AN APPLE\"\n",
    "x = np.char.isupper(string1)\n",
    "print(\"After applying isupper() Function:\")\n",
    "print(x)"
   ]
  },
  {
   "cell_type": "code",
   "execution_count": 28,
   "metadata": {},
   "outputs": [
    {
     "name": "stdout",
     "output_type": "stream",
     "text": [
      "The input array : \n",
      " ['ss4Q' 'OOPS' 'WooHoo2']\n",
      "The output array :\n",
      " [False  True False]\n"
     ]
    }
   ],
   "source": [
    "inp_ar = np.array(['ss4Q', 'OOPS', 'WooHoo2']) \n",
    "print (\"The input array : \\n\", inp_ar) \n",
    "\n",
    "output = np.char.isupper(inp_ar) \n",
    "print (\"The output array :\\n\", output) "
   ]
  },
  {
   "cell_type": "code",
   "execution_count": 29,
   "metadata": {},
   "outputs": [
    {
     "name": "stdout",
     "output_type": "stream",
     "text": [
      "The input array : \n",
      " ['ss4Q' 'OOPS' 'WooHoo2']\n",
      "The output array :\n",
      " [False  True False]\n"
     ]
    }
   ],
   "source": [
    "np_ar = np.array(['ss4Q', 'OOPS', 'WooHoo2']) \n",
    "print (\"The input array : \\n\", inp_ar) \n",
    "\n",
    "output = np.char.isupper(inp_ar) \n",
    "print (\"The output array :\\n\", output) "
   ]
  },
  {
   "cell_type": "code",
   "execution_count": 30,
   "metadata": {},
   "outputs": [
    {
     "name": "stdout",
     "output_type": "stream",
     "text": [
      "The Input array : \n",
      "['1' '2000' '90' '3.5' '0']\n",
      "The Output array: \n",
      "[ True  True  True False  True]\n"
     ]
    }
   ],
   "source": [
    "import numpy as np\n",
    "\n",
    "inp_ar = np.array([ '1', '2000','90','3.5','0'] ) \n",
    "print (\"The Input array : \")\n",
    "print(inp_ar) \n",
    "\n",
    "outp_arr = np.char.isnumeric(inp_ar) \n",
    "print (\"The Output array: \")\n",
    "print(outp_arr) "
   ]
  },
  {
   "cell_type": "code",
   "execution_count": 31,
   "metadata": {},
   "outputs": [
    {
     "name": "stdout",
     "output_type": "stream",
     "text": [
      "The Input string is:\n",
      "['Ram' 'Mohan' 'Apple9' 'Chair s']\n",
      "The Output is:\n",
      "[ True  True False False]\n"
     ]
    }
   ],
   "source": [
    "inp_ar = np.array([ 'Ram', 'Mohan', 'Apple9','Chair s'] )\n",
    "print(\"The Input string is:\")\n",
    "print(inp_ar)\n",
    "\n",
    "x = np.char.isalpha(inp_ar)\n",
    "print(\"The Output is:\")\n",
    "print(x)"
   ]
  },
  {
   "cell_type": "code",
   "execution_count": 32,
   "metadata": {},
   "outputs": [
    {
     "name": "stdout",
     "output_type": "stream",
     "text": [
      "The Input string is:\n",
      "['Superb !' 'Amazing!' 'fab' 'cool123']\n",
      "The Output is:\n",
      "[False False  True False]\n"
     ]
    }
   ],
   "source": [
    "inp_ar = np.array([ 'Superb !', 'Amazing!', 'fab','cool123'] )\n",
    "print(\"The Input string is:\")\n",
    "print(inp_ar)\n",
    "\n",
    "x = np.char.isalpha(inp_ar)\n",
    "print(\"The Output is:\")\n",
    "print(x)"
   ]
  },
  {
   "cell_type": "code",
   "execution_count": 40,
   "metadata": {},
   "outputs": [
    {
     "name": "stdout",
     "output_type": "stream",
     "text": [
      "The Input array :\n",
      "  ['bBaAaBb' 'baAbaB' 'abBABba']\n",
      "The Output array:\n",
      " [3 2 3]\n"
     ]
    }
   ],
   "source": [
    "ar = np.array(['bBaAaBb', 'baAbaB', 'abBABba']) \n",
    "print (\"The Input array :\\n \", ar) \n",
    "\n",
    "output = np.char.index(ar, sub ='A') \n",
    "print (\"The Output array:\\n\", output) "
   ]
  },
  {
   "cell_type": "code",
   "execution_count": 46,
   "metadata": {},
   "outputs": [
    {
     "name": "stdout",
     "output_type": "stream",
     "text": [
      "The Input:\n",
      " The Grass is greener on the other side always\n",
      "The output is :\n",
      "True\n"
     ]
    }
   ],
   "source": [
    "import numpy as np\n",
    "\n",
    "arr = \"The Grass is greener on the other side always\"\n",
    "print(\"The Input:\\n\",arr)\n",
    "prefix = 'The'\n",
    "\n",
    "x = np.char.startswith(arr, prefix, start = 0, end = None)\n",
    "print(\"The output is :\")\n",
    "print (x)"
   ]
  },
  {
   "cell_type": "code",
   "execution_count": 42,
   "metadata": {},
   "outputs": [
    {
     "name": "stdout",
     "output_type": "stream",
     "text": [
      "The Input:\n",
      " The Grass is greener on the other side always\n",
      "The output is :\n",
      "False\n"
     ]
    }
   ],
   "source": [
    "arr = \"The Grass is greener on the other side always\"\n",
    "print(\"The Input:\\n\",arr)\n",
    "prefix = 'It'\n",
    "\n",
    "x = np.char.startswith(arr, prefix, start = 0, end = None)\n",
    "print(\"The output is :\")\n",
    "print (x)"
   ]
  },
  {
   "cell_type": "code",
   "execution_count": 47,
   "metadata": {},
   "outputs": [
    {
     "name": "stdout",
     "output_type": "stream",
     "text": [
      "The Input string is:\n",
      "['Superb !' 'Amazing!']\n",
      "The Output is:\n",
      "[False False]\n"
     ]
    }
   ],
   "source": [
    "inp_ar = np.array([ 'Superb !', 'Amazing!'] )\n",
    "print(\"The Input string is:\")\n",
    "print(inp_ar)\n",
    "\n",
    "x = np.char.isspace(inp_ar)\n",
    "print(\"The Output is:\")\n",
    "print(x)"
   ]
  },
  {
   "cell_type": "code",
   "execution_count": 48,
   "metadata": {},
   "outputs": [
    {
     "name": "stdout",
     "output_type": "stream",
     "text": [
      "The Input string is:\n",
      "['20002' '10009' '12345ab' '01']\n",
      "The Output is:\n",
      "[ True  True False  True]\n"
     ]
    }
   ],
   "source": [
    "inp_ar = np.array([ '20002', '10009', '12345ab','01'] )\n",
    "print(\"The Input string is:\")\n",
    "print(inp_ar)\n",
    "\n",
    "x = np.char.isdigit(inp_ar)\n",
    "print(\"The Output is:\")\n",
    "print(x)"
   ]
  },
  {
   "cell_type": "code",
   "execution_count": 49,
   "metadata": {},
   "outputs": [
    {
     "name": "stdout",
     "output_type": "stream",
     "text": [
      "The Input string is:\n",
      "['20002 2' 'a10009' '12345 ab' '01']\n",
      "The Output is:\n",
      "[False False False  True]\n"
     ]
    }
   ],
   "source": [
    "inp_ar = np.array([ '20002 2', 'a10009', '12345 ab','01'] )\n",
    "print(\"The Input string is:\")\n",
    "print(inp_ar)\n",
    "\n",
    "x = np.char.isdigit(inp_ar)\n",
    "print(\"The Output is:\")\n",
    "print(x)"
   ]
  },
  {
   "cell_type": "code",
   "execution_count": 52,
   "metadata": {},
   "outputs": [
    {
     "name": "stdout",
     "output_type": "stream",
     "text": [
      "The Input string is:\n",
      "123a42\n",
      "The Output is:\n",
      "False\n"
     ]
    }
   ],
   "source": [
    "string1 = \"123a42\"\n",
    "print(\"The Input string is:\")\n",
    "print(string1)\n",
    "\n",
    "x = np.char.isdecimal(string1)\n",
    "print(\"The Output is:\")\n",
    "print(x)"
   ]
  },
  {
   "cell_type": "code",
   "execution_count": 53,
   "metadata": {},
   "outputs": [
    {
     "name": "stdout",
     "output_type": "stream",
     "text": [
      "The Input string is:\n",
      "['20002 2' 'a10009' '12345 ab' '01']\n",
      "The Output is:\n",
      "[False False False  True]\n"
     ]
    }
   ],
   "source": [
    "inp_ar = np.array([ '20002 2', 'a10009', '12345 ab','01'] )\n",
    "print(\"The Input string is:\")\n",
    "print(inp_ar)\n",
    "\n",
    "x = np.char.isdecimal(inp_ar)\n",
    "print(\"The Output is:\")\n",
    "print(x)"
   ]
  },
  {
   "cell_type": "code",
   "execution_count": 54,
   "metadata": {},
   "outputs": [
    {
     "name": "stdout",
     "output_type": "stream",
     "text": [
      "The original string:\n",
      "this is a string in numPy\n",
      "\n",
      "\n",
      "Applying upper() method :\n",
      "THIS IS A STRING IN NUMPY\n"
     ]
    }
   ],
   "source": [
    "import numpy as np  \n",
    "\n",
    "a = \"this is a string in numPy\"\n",
    "print(\"The original string:\")\n",
    "print(a)\n",
    "print(\"\\n\")\n",
    "print(\"Applying upper() method :\")  \n",
    "\n",
    "x = np.char.upper(a)\n",
    "print(x)"
   ]
  },
  {
   "cell_type": "code",
   "execution_count": 55,
   "metadata": {},
   "outputs": [
    {
     "name": "stdout",
     "output_type": "stream",
     "text": [
      "The original string:\n",
      "welcome to StudyTonight!!\n",
      "Capitalizing the string using capitalize() function :\n",
      "Welcome to studytonight!!\n"
     ]
    }
   ],
   "source": [
    "a = \"welcome to StudyTonight!!\"\n",
    "print(\"The original string:\")\n",
    "print(a)\n",
    "print(\"Capitalizing the string using capitalize() function :\")  \n",
    "\n",
    "x = np.char.capitalize(a)\n",
    "print(x)"
   ]
  },
  {
   "cell_type": "code",
   "execution_count": 58,
   "metadata": {},
   "outputs": [
    {
     "name": "stdout",
     "output_type": "stream",
     "text": [
      "The original string:\n",
      "\n",
      "studyTonight is a best place to learn coding online\n",
      "\n",
      "\n",
      "Capitalizing the string using capitalize() function:\n",
      "\n",
      "Studytonight is a best place to learn coding online\n"
     ]
    }
   ],
   "source": [
    "a = \"studyTonight is a best place to learn coding online\"\n",
    "print(\"The original string:\\n\")\n",
    "print(a)\n",
    "print(\"\\n\")\n",
    "print(\"Capitalizing the string using capitalize() function:\\n\")  \n",
    "\n",
    "x = np.char.capitalize(a)\n",
    "print(x)"
   ]
  },
  {
   "cell_type": "code",
   "execution_count": 59,
   "metadata": {},
   "outputs": [
    {
     "name": "stdout",
     "output_type": "stream",
     "text": [
      "The original string:\n",
      "\n",
      "StudyTonight is a best place to learn coding online\n",
      "\n",
      "\n",
      "Capitalizing the string using capitalize() function:\n",
      "\n",
      "Studytonight is a best place to learn coding online\n"
     ]
    }
   ],
   "source": [
    "a = \"StudyTonight is a best place to learn coding online\"\n",
    "print(\"The original string:\\n\")\n",
    "print(a)\n",
    "print(\"\\n\")\n",
    "print(\"Capitalizing the string using capitalize() function:\\n\")  \n",
    "\n",
    "x = np.char.capitalize(a)\n",
    "print(x)"
   ]
  },
  {
   "cell_type": "code",
   "execution_count": 61,
   "metadata": {},
   "outputs": [
    {
     "name": "stdout",
     "output_type": "stream",
     "text": [
      "The Original String:\n",
      " asd    welcome to studytonight     \n",
      "After Removing the leading and trailing whitespaces from the string :\n",
      "asd    welcome to studytonight\n"
     ]
    }
   ],
   "source": [
    "str = \" asd    welcome to studytonight     \"  \n",
    "print(\"The Original String:\")  \n",
    "print(str)\n",
    "print(\"After Removing the leading and trailing whitespaces from the string :\") \n",
    " \n",
    "a = np.char.strip(str)\n",
    "print(a)"
   ]
  },
  {
   "cell_type": "code",
   "execution_count": 62,
   "metadata": {},
   "outputs": [
    {
     "name": "stdout",
     "output_type": "stream",
     "text": [
      "The Input array :  ['Sunday   ' '     Monday ' '  Tues   ']\n",
      "The Output array:  ['Sunday' 'Monday' 'Tues']\n"
     ]
    }
   ],
   "source": [
    "inp = np.array(['Sunday   ', '     Monday ', '  Tues   ']) \n",
    "print (\"The Input array : \", inp) \n",
    "\n",
    "output = np.char.strip(inp) \n",
    "print (\"The Output array: \", output) "
   ]
  },
  {
   "cell_type": "code",
   "execution_count": 63,
   "metadata": {},
   "outputs": [
    {
     "name": "stdout",
     "output_type": "stream",
     "text": [
      "The Input is:\n",
      "StudyTonight-Education Simplified\n",
      "The Output is :\n",
      "['StudyTonight-Education Simplified' '' '']\n"
     ]
    }
   ],
   "source": [
    "a = \"StudyTonight-Education Simplified\"\n",
    "sep ='None'\n",
    "\n",
    "print(\"The Input is:\")\n",
    "print(a)\n",
    "out = np.char.partition(a, sep) \n",
    "\t\n",
    "print (\"The Output is :\")\n",
    "print(out)"
   ]
  },
  {
   "cell_type": "code",
   "execution_count": 77,
   "metadata": {},
   "outputs": [
    {
     "name": "stdout",
     "output_type": "stream",
     "text": [
      "The Input is:\n",
      "StudyTonight-Eduction Simplified\n",
      "The Output is :\n",
      "['Study' 'To' 'night-Eduction Simplified']\n"
     ]
    }
   ],
   "source": [
    "\n",
    "\n",
    "a = \"StudyTonight-Eduction Simplified\"\n",
    "sep ='To'\n",
    "\n",
    "print(\"The Input is:\")\n",
    "print(a)\n",
    "out = np.char.partition(a, sep) \n",
    "\t\n",
    "print (\"The Output is :\")\n",
    "print(out)"
   ]
  }
 ],
 "metadata": {
  "kernelspec": {
   "display_name": "Python 3.10.6 ('ml')",
   "language": "python",
   "name": "python3"
  },
  "language_info": {
   "codemirror_mode": {
    "name": "ipython",
    "version": 3
   },
   "file_extension": ".py",
   "mimetype": "text/x-python",
   "name": "python",
   "nbconvert_exporter": "python",
   "pygments_lexer": "ipython3",
   "version": "3.10.6"
  },
  "orig_nbformat": 4,
  "vscode": {
   "interpreter": {
    "hash": "cf1d9465f6502f177b365be3304d09fdeffdb2bc4d9e067aaaa01fb948a8cbd7"
   }
  }
 },
 "nbformat": 4,
 "nbformat_minor": 2
}
