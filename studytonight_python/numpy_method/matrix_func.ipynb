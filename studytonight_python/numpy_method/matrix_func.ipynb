{
 "cells": [
  {
   "cell_type": "code",
   "execution_count": 1,
   "metadata": {},
   "outputs": [
    {
     "name": "stdout",
     "output_type": "stream",
     "text": [
      "The Output is :\n",
      "[[1 0 0]\n",
      " [0 1 0]\n",
      " [0 0 1]\n",
      " [0 0 0]]\n"
     ]
    }
   ],
   "source": [
    "#equal to zero, except for the kth diagonal, whose values are equal to one.\n",
    "import numpy.matlib  \n",
    "x = numpy.matlib.eye(n = 4, M = 3, k = 0, dtype = int)\n",
    "print(\"The Output is :\")\n",
    "print(x)"
   ]
  },
  {
   "cell_type": "code",
   "execution_count": 2,
   "metadata": {},
   "outputs": [
    {
     "name": "stdout",
     "output_type": "stream",
     "text": [
      "The Identity matrix as output is :\n",
      "[[1. 0. 0. 0.]\n",
      " [0. 1. 0. 0.]\n",
      " [0. 0. 1. 0.]\n",
      " [0. 0. 0. 1.]]\n"
     ]
    }
   ],
   "source": [
    "  \n",
    "  \n",
    "a = numpy.matlib.identity(4)\n",
    "print(\"The Identity matrix as output is :\")\n",
    "print(a)"
   ]
  },
  {
   "cell_type": "code",
   "execution_count": 3,
   "metadata": {},
   "outputs": [
    {
     "name": "stdout",
     "output_type": "stream",
     "text": [
      "The Identity matrix as an output is :\n",
      "[[1 0 0 0 0 0]\n",
      " [0 1 0 0 0 0]\n",
      " [0 0 1 0 0 0]\n",
      " [0 0 0 1 0 0]\n",
      " [0 0 0 0 1 0]\n",
      " [0 0 0 0 0 1]]\n"
     ]
    }
   ],
   "source": [
    "a = numpy.matlib.identity(6, dtype = int)\n",
    "print(\"The Identity matrix as an output is :\")\n",
    "print(a)"
   ]
  },
  {
   "cell_type": "code",
   "execution_count": 4,
   "metadata": {},
   "outputs": [
    {
     "name": "stdout",
     "output_type": "stream",
     "text": [
      "The Random Matrix is :\n",
      "[[0.54590115 0.62087592 0.10203069]\n",
      " [0.33274129 0.20589643 0.65910168]\n",
      " [0.9949402  0.11173582 0.3531989 ]\n",
      " [0.56490564 0.75534095 0.41558749]]\n"
     ]
    }
   ],
   "source": [
    "x = numpy.matlib.rand(4,3)\n",
    "print(\"The Random Matrix is :\")\n",
    "print(x)"
   ]
  },
  {
   "cell_type": "code",
   "execution_count": 10,
   "metadata": {},
   "outputs": [
    {
     "name": "stdout",
     "output_type": "stream",
     "text": [
      "[[6.41083583e-01 7.87722608e-01 6.14154573e-01 3.57090395e-01\n",
      "  6.81330647e-01 5.52629401e-01]\n",
      " [5.29282633e-01 6.02859344e-01 8.60940684e-01 8.53619643e-01\n",
      "  4.43436502e-01 1.36783979e-01]\n",
      " [9.49864324e-01 4.85199793e-04 8.41019105e-01 6.91786794e-01\n",
      "  7.09826482e-01 1.46298155e-01]\n",
      " [9.24456072e-01 6.07083480e-02 7.71125070e-01 4.16716732e-01\n",
      "  5.04645624e-01 6.80382181e-01]\n",
      " [4.03765118e-02 7.36073201e-01 5.19548986e-01 1.66914994e-01\n",
      "  5.44839940e-01 6.39707433e-02]]\n"
     ]
    }
   ],
   "source": [
    "#5 x 6 range is 0-1\n",
    "x = numpy.matlib.rand((5, 6), 4)\n",
    "print(x)"
   ]
  },
  {
   "cell_type": "code",
   "execution_count": 15,
   "metadata": {},
   "outputs": [
    {
     "name": "stdout",
     "output_type": "stream",
     "text": [
      "[[5.44954407e-321 1.07056472e-311 8.06358401e-313 1.07056473e-311\n",
      "  1.97626258e-323]\n",
      " [1.07056473e-311 1.07056472e-311 1.07056472e-311 1.07056472e-311\n",
      "  1.07056472e-311]\n",
      " [1.06948588e-311 1.07056473e-311 1.06948588e-311 0.00000000e+000\n",
      "  2.47032823e-323]\n",
      " [1.07056473e-311 1.07056472e-311 1.07056472e-311 1.07056472e-311\n",
      "  1.07056472e-311]\n",
      " [1.07056472e-311 2.96439388e-323 1.07056473e-311 1.07056472e-311\n",
      "  1.07056472e-311]]\n"
     ]
    }
   ],
   "source": [
    "#返回给定形状的新矩阵，但是不初始化\n",
    "#numpy.matlib.empty(shape,dtype,order)  \n",
    "print(numpy.matlib.empty((5,5)))   "
   ]
  },
  {
   "cell_type": "code",
   "execution_count": 14,
   "metadata": {},
   "outputs": [
    {
     "name": "stdout",
     "output_type": "stream",
     "text": [
      "[[-2139098208         504 -2111014080]\n",
      " [        504           0 -2147483648]]\n"
     ]
    }
   ],
   "source": [
    "print(numpy.matlib.empty((2,3), int))  "
   ]
  },
  {
   "cell_type": "code",
   "execution_count": 16,
   "metadata": {},
   "outputs": [
    {
     "name": "stdout",
     "output_type": "stream",
     "text": [
      "[[1. 1. 1. 1.]\n",
      " [1. 1. 1. 1.]\n",
      " [1. 1. 1. 1.]\n",
      " [1. 1. 1. 1.]\n",
      " [1. 1. 1. 1.]]\n"
     ]
    }
   ],
   "source": [
    "import numpy as np    \n",
    "import numpy.matlib    \n",
    "    \n",
    "print(numpy.matlib.ones((5,4)))   "
   ]
  },
  {
   "cell_type": "code",
   "execution_count": 17,
   "metadata": {},
   "outputs": [
    {
     "data": {
      "text/plain": [
       "matrix([[1., 1., 1., 1., 1.]])"
      ]
     },
     "execution_count": 17,
     "metadata": {},
     "output_type": "execute_result"
    }
   ],
   "source": [
    "# 1-d array with 5 elements\n",
    "np.matlib.ones(5)"
   ]
  },
  {
   "cell_type": "code",
   "execution_count": 19,
   "metadata": {},
   "outputs": [
    {
     "name": "stdout",
     "output_type": "stream",
     "text": [
      "The matrix is:\n",
      " [[0. 0. 0.]\n",
      " [0. 0. 0.]\n",
      " [0. 0. 0.]\n",
      " [0. 0. 0.]]\n"
     ]
    }
   ],
   "source": [
    "print(\"The matrix is:\\n\",numpy.matlib.zeros((4,3)))  "
   ]
  },
  {
   "cell_type": "code",
   "execution_count": 20,
   "metadata": {},
   "outputs": [
    {
     "name": "stdout",
     "output_type": "stream",
     "text": [
      "The Input  number is: \n",
      "40\n",
      "The Number of bit shift : \n",
      "2\n",
      "After the shifting of 2 bits to left : \n",
      "160\n"
     ]
    }
   ],
   "source": []
  }
 ],
 "metadata": {
  "kernelspec": {
   "display_name": "Python 3.9.7 ('base')",
   "language": "python",
   "name": "python3"
  },
  "language_info": {
   "codemirror_mode": {
    "name": "ipython",
    "version": 3
   },
   "file_extension": ".py",
   "mimetype": "text/x-python",
   "name": "python",
   "nbconvert_exporter": "python",
   "pygments_lexer": "ipython3",
   "version": "3.9.7"
  },
  "orig_nbformat": 4,
  "vscode": {
   "interpreter": {
    "hash": "eeb9bea61e70784f7118683a786bc6c98a5027c9f70149c135d324a83f473243"
   }
  }
 },
 "nbformat": 4,
 "nbformat_minor": 2
}
