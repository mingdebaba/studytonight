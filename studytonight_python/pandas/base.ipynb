{
 "cells": [
  {
   "cell_type": "markdown",
   "metadata": {},
   "source": [
    "### 读取文件的方法以pd.read_ 开头，而写入的方法以pd.to_开头"
   ]
  },
  {
   "cell_type": "markdown",
   "metadata": {},
   "source": [
    "read_csv to_csv\n",
    "read_json to_json\n",
    "read_clipboard to_clipboard\n",
    "read_excel to_excel\n",
    "read_hdf to_hdf\n",
    "read_pickle to_pickle\n",
    "read_sql to_sql\n"
   ]
  },
  {
   "cell_type": "code",
   "execution_count": null,
   "metadata": {},
   "outputs": [],
   "source": [
    "import pandas as pd\n",
    "import numpy as np\n",
    "from pandas import Series, DataFrame\n",
    "\n",
    "\n",
    "# 从剪切板读取数据\n",
    "df1 = pd.read_clipboard()\n",
    "# 把数据放入到剪切板中，数据可以直接粘贴到excel文件中\n",
    "df1.to_clipboard()\n",
    "# 读写csv文件，可以取消index\n",
    "de1.to_csv('df1.csv')\n",
    "df1.to_csv('df1_noIndex.csv',index = False)\n",
    "# 转化为Json数据\n",
    "df1.to_json('df1.json')\n",
    "# 转化为html格式\n",
    "df1.to_html('df1.html')\n",
    "# 转化为excel格式\n",
    "df1.to_excel('df1.xlsx')\n"
   ]
  },
  {
   "cell_type": "code",
   "execution_count": null,
   "metadata": {},
   "outputs": [],
   "source": [
    "df = pd.read_csv('temp.csv')\n",
    "print(df)\n",
    "\n",
    "df = pd.read_csv('temp.csv',dtype={'Salary':np.float64})\n",
    "print(df)\n",
    "print(df.dtypes)\n",
    "\n",
    "df = pd.read_csv('temp.csv',index_col=['S.No'])\n",
    "print(df)\n",
    "\n",
    "\n",
    "df = pd.read_csv('temp.csv',names=['a','b','c','d','e'])\n",
    "print(df)\n",
    "# 如果多的列没有值，下面会自动填充NAN，如果列名设置少了，会从后往前给\n",
    "\n",
    "df = pd.read_csv('temp.csv',skiprow=2)\n",
    "print(df)\n"
   ]
  },
  {
   "cell_type": "markdown",
   "metadata": {},
   "source": [
    "count()数量\n",
    "sum()所有值之和\n",
    "mean()所有值的平均值\n",
    "median()所有值的中位数\n",
    "std()所有值的标准偏差\n",
    "min()所有值的最小值\n",
    "max()所有值的最大值\n",
    "abs()绝对值\n",
    "prob()数组元素的乘积\n",
    "cumsum()累计总和\n",
    "cumprod()累计乘和"
   ]
  },
  {
   "cell_type": "code",
   "execution_count": 1,
   "metadata": {},
   "outputs": [
    {
     "name": "stdout",
     "output_type": "stream",
     "text": [
      "       Name  Age  Rating\n",
      "0       Tom   25   4.230\n",
      "1     James   14   5.213\n",
      "2     Ricky   15   1.420\n",
      "3       Vin   26   4.241\n",
      "4     Steve   23   2.421\n",
      "5     Minsu   32   4.120\n",
      "6      Jack   18   3.120\n",
      "7       Lee   12   5.124\n",
      "8     David   23   6.124\n",
      "9   Grasper   25   4.124\n",
      "10   Betina   24   5.140\n",
      "11   Andres   10   3.150 \n",
      "\n",
      "Name      TomJamesRickyVinSteveMinsuJackLeeDavidGrasperB...\n",
      "Age                                                     247\n",
      "Rating                                               48.427\n",
      "dtype: object \n",
      "\n",
      "0     29.230\n",
      "1     19.213\n",
      "2     16.420\n",
      "3     30.241\n",
      "4     25.421\n",
      "5     36.120\n",
      "6     21.120\n",
      "7     17.124\n",
      "8     29.124\n",
      "9     29.124\n",
      "10    29.140\n",
      "11    13.150\n",
      "dtype: float64 \n",
      "\n",
      "Age       20.583333\n",
      "Rating     4.035583\n",
      "dtype: float64 \n",
      "\n",
      "Age       6.666856\n",
      "Rating    1.325204\n",
      "dtype: float64 \n",
      "\n"
     ]
    },
    {
     "name": "stderr",
     "output_type": "stream",
     "text": [
      "C:\\Users\\PC095\\AppData\\Local\\Temp\\ipykernel_3492\\2554102708.py:9: FutureWarning: Dropping of nuisance columns in DataFrame reductions (with 'numeric_only=None') is deprecated; in a future version this will raise TypeError.  Select only valid columns before calling the reduction.\n",
      "  print(df.sum(1),'\\n') # 行求和 axis=1\n",
      "C:\\Users\\PC095\\AppData\\Local\\Temp\\ipykernel_3492\\2554102708.py:10: FutureWarning: The default value of numeric_only in DataFrame.mean is deprecated. In a future version, it will default to False. In addition, specifying 'numeric_only=None' is deprecated. Select only valid columns or specify the value of numeric_only to silence this warning.\n",
      "  print(df.mean(),'\\n') # 求均值\n",
      "C:\\Users\\PC095\\AppData\\Local\\Temp\\ipykernel_3492\\2554102708.py:11: FutureWarning: The default value of numeric_only in DataFrame.std is deprecated. In a future version, it will default to False. In addition, specifying 'numeric_only=None' is deprecated. Select only valid columns or specify the value of numeric_only to silence this warning.\n",
      "  print(df.std(),'\\n')  # 标准差\n"
     ]
    }
   ],
   "source": [
    "import pandas as pd\n",
    "import numpy as np\n",
    "\n",
    "d = {'Name':pd.Series(['Tom','James','Ricky','Vin','Steve','Minsu','Jack','Lee','David','Grasper','Betina','Andres']),'Age':pd.Series([25,14,15,26,23,32,18,12,23,25,24,10]),'Rating':pd.Series([4.23,5.213,1.42,4.241,2.421,4.12,3.12,5.124,6.124,4.124,5.14,3.15])}\n",
    "\n",
    "df = pd.DataFrame(d)\n",
    "print(df,'\\n')\n",
    "print(df.sum(),'\\n') # 列求和 默认axis=0\n",
    "print(df.sum(1),'\\n') # 行求和 axis=1\n",
    "print(df.mean(),'\\n') # 求均值\n",
    "print(df.std(),'\\n')  # 标准差\n"
   ]
  },
  {
   "cell_type": "markdown",
   "metadata": {},
   "source": [
    "迭代与遍历\n",
    "\n",
    "简言之，基本迭代（对于i在对象中）产生：\n",
    "\n",
    "Series-值\n",
    "DataFrame-列标签\n",
    "要遍历数据帧（DataFrame）中的行，可以使用一下的函数：\n",
    "\n",
    "iteritems（） -迭代（key，value）对\n",
    "iterrows（） -将行迭代为（索引，系列）对\n",
    "itertuples（） -以namedtuples的形式迭代行\n"
   ]
  },
  {
   "cell_type": "code",
   "execution_count": 2,
   "metadata": {},
   "outputs": [
    {
     "name": "stdout",
     "output_type": "stream",
     "text": [
      "           D    x         y       z\n",
      "0 2020-01-31  0.0  0.887163  Medium\n",
      "1 2020-02-29  1.0  0.137366  Medium\n",
      "2 2020-03-31  2.0  0.980580    High\n",
      "3 2020-04-30  3.0  0.304900    High\n",
      "4 2020-05-31  4.0  0.933434    High \n",
      "\n"
     ]
    }
   ],
   "source": [
    "N = 5\n",
    "df = pd.DataFrame({\n",
    "    'D':pd.date_range(start='2020-01-01',periods=N,freq='M'),\n",
    "    'x':np.linspace(0,stop=N-1,num=N),\n",
    "    'y':np.random.rand(N),\n",
    "    'z':np.random.choice(['Low','Medium','High'],N).tolist(),\n",
    "    })\n",
    "\n",
    "print(df,'\\n')"
   ]
  },
  {
   "cell_type": "code",
   "execution_count": 3,
   "metadata": {},
   "outputs": [
    {
     "name": "stdout",
     "output_type": "stream",
     "text": [
      "D\n",
      "x\n",
      "y\n",
      "z\n"
     ]
    }
   ],
   "source": [
    "for col in df:\n",
    "    print(col)"
   ]
  },
  {
   "cell_type": "markdown",
   "metadata": {},
   "source": [
    "遍历iteritems（）将么一个列作为名称，将索引和值作为键和罗列值迭代为Series对象"
   ]
  },
  {
   "cell_type": "code",
   "execution_count": 6,
   "metadata": {},
   "outputs": [
    {
     "name": "stdout",
     "output_type": "stream",
     "text": [
      "       col1      col2      col3\n",
      "0  0.708217  0.388186  0.633133\n",
      "1  0.172379  0.534523  0.497469\n",
      "2  0.914237  0.936065  0.621215\n",
      "3  0.769572  0.249844  0.382799 \n",
      "\n",
      "col1 0    0.708217\n",
      "1    0.172379\n",
      "2    0.914237\n",
      "3    0.769572\n",
      "Name: col1, dtype: float64 \n",
      "\n",
      "col2 0    0.388186\n",
      "1    0.534523\n",
      "2    0.936065\n",
      "3    0.249844\n",
      "Name: col2, dtype: float64 \n",
      "\n",
      "col3 0    0.633133\n",
      "1    0.497469\n",
      "2    0.621215\n",
      "3    0.382799\n",
      "Name: col3, dtype: float64 \n",
      "\n"
     ]
    },
    {
     "name": "stderr",
     "output_type": "stream",
     "text": [
      "C:\\Users\\PC095\\AppData\\Local\\Temp\\ipykernel_3492\\2962548015.py:4: FutureWarning: iteritems is deprecated and will be removed in a future version. Use .items instead.\n",
      "  for key,value in df.iteritems():\n"
     ]
    }
   ],
   "source": [
    "df = pd.DataFrame(\n",
    "    np.random.rand(4,3),columns=['col1','col2','col3'])\n",
    "print(df,'\\n')\n",
    "for key,value in df.iteritems():\n",
    "    print(key,value,'\\n')"
   ]
  },
  {
   "cell_type": "markdown",
   "metadata": {},
   "source": [
    "iterrows（）返回迭代器，产生每个索引值以及包含每行数据的序列"
   ]
  },
  {
   "cell_type": "code",
   "execution_count": 7,
   "metadata": {},
   "outputs": [
    {
     "name": "stdout",
     "output_type": "stream",
     "text": [
      "       col1      col2      col3\n",
      "0  0.708217  0.388186  0.633133\n",
      "1  0.172379  0.534523  0.497469\n",
      "2  0.914237  0.936065  0.621215\n",
      "3  0.769572  0.249844  0.382799 \n",
      "\n",
      "0 col1    0.708217\n",
      "col2    0.388186\n",
      "col3    0.633133\n",
      "Name: 0, dtype: float64 \n",
      "\n",
      "1 col1    0.172379\n",
      "col2    0.534523\n",
      "col3    0.497469\n",
      "Name: 1, dtype: float64 \n",
      "\n",
      "2 col1    0.914237\n",
      "col2    0.936065\n",
      "col3    0.621215\n",
      "Name: 2, dtype: float64 \n",
      "\n",
      "3 col1    0.769572\n",
      "col2    0.249844\n",
      "col3    0.382799\n",
      "Name: 3, dtype: float64 \n",
      "\n"
     ]
    }
   ],
   "source": [
    "print(df,'\\n')\n",
    "for row_index,row in df.iterrows():\n",
    "    print(row_index,row,'\\n')"
   ]
  },
  {
   "cell_type": "markdown",
   "metadata": {},
   "source": [
    "itertuples（）方法将DataFrame中的每一行返回产生一个命名元组的迭代器，元组的第一个元素将是行的相应索引值，二剩余的值时行值。"
   ]
  },
  {
   "cell_type": "code",
   "execution_count": 12,
   "metadata": {},
   "outputs": [
    {
     "name": "stdout",
     "output_type": "stream",
     "text": [
      "       col1      col2      col3\n",
      "0  0.708217  0.388186  0.633133\n",
      "1  0.172379  0.534523  0.497469\n",
      "2  0.914237  0.936065  0.621215\n",
      "3  0.769572  0.249844  0.382799 \n",
      "\n",
      "Pandas(Index=0, col1=0.7082171113300679, col2=0.3881856098747366, col3=0.633133378708478) \n",
      "\n",
      "Pandas(Index=1, col1=0.17237901539995915, col2=0.5345233991996908, col3=0.49746921566380253) \n",
      "\n",
      "Pandas(Index=2, col1=0.9142368487657745, col2=0.9360647958132131, col3=0.6212147674569429) \n",
      "\n",
      "Pandas(Index=3, col1=0.7695717239510638, col2=0.24984392584043402, col3=0.3827988067208249) \n",
      "\n"
     ]
    }
   ],
   "source": [
    "print(df,'\\n')\n",
    "for row in df.itertuples():\n",
    "    print(row,'\\n')"
   ]
  },
  {
   "cell_type": "markdown",
   "metadata": {},
   "source": [
    "排序\n",
    "\n",
    "## 按索引排序：使用sort_index（）方法，通过传递axis参数和排序顺序，可以对DataFrame进行排序。默认情况下，按照圣墟对行标签进行排序\n",
    "\n",
    "## 按数值排序：sort_values()是按值排序方法。它接受一个by参数，它将使用要与其排序值的DataFrame的列名称\n",
    "\n",
    "## 排序顺序：通过将布尔值传递给升序参数ascending可以控制排序顺序\n",
    "\n",
    "## 按行或列排序：通过设置axis参数为0或1，为0时逐行排序，为1时逐列排序，默认为0\n"
   ]
  },
  {
   "cell_type": "code",
   "execution_count": 13,
   "metadata": {},
   "outputs": [
    {
     "name": "stdout",
     "output_type": "stream",
     "text": [
      "          A         B\n",
      "1  0.340123  0.918044\n",
      "4  0.604868  0.439141\n",
      "6  0.575787  0.736709\n",
      "2  0.091643  0.163994\n",
      "3  0.469389  0.657095\n",
      "5  0.764279  0.836634\n",
      "9  0.826005  0.294855\n",
      "8  0.831732  0.535574\n",
      "0  0.662168  0.883522\n",
      "7  0.951893  0.005511 \n",
      "\n"
     ]
    }
   ],
   "source": [
    "unsorted_df = pd.DataFrame(np.random.rand(10,2),index=[1,4,6,2,3,5,9,8,0,7],columns=['A','B'])\n",
    "print(unsorted_df,'\\n')"
   ]
  },
  {
   "cell_type": "code",
   "execution_count": 14,
   "metadata": {},
   "outputs": [
    {
     "name": "stdout",
     "output_type": "stream",
     "text": [
      "          A         B\n",
      "0  0.662168  0.883522\n",
      "1  0.340123  0.918044\n",
      "2  0.091643  0.163994\n",
      "3  0.469389  0.657095\n",
      "4  0.604868  0.439141\n",
      "5  0.764279  0.836634\n",
      "6  0.575787  0.736709\n",
      "7  0.951893  0.005511\n",
      "8  0.831732  0.535574\n",
      "9  0.826005  0.294855 \n",
      "\n"
     ]
    }
   ],
   "source": [
    "sorted_df = unsorted_df.sort_index(ascending = True)\n",
    "print(sorted_df,'\\n') #按索引排序"
   ]
  },
  {
   "cell_type": "code",
   "execution_count": 15,
   "metadata": {},
   "outputs": [
    {
     "name": "stdout",
     "output_type": "stream",
     "text": [
      "          A         B\n",
      "7  0.951893  0.005511\n",
      "2  0.091643  0.163994\n",
      "9  0.826005  0.294855\n",
      "4  0.604868  0.439141\n",
      "8  0.831732  0.535574\n",
      "3  0.469389  0.657095\n",
      "6  0.575787  0.736709\n",
      "5  0.764279  0.836634\n",
      "0  0.662168  0.883522\n",
      "1  0.340123  0.918044 \n",
      "\n"
     ]
    }
   ],
   "source": [
    "sorted_df = unsorted_df.sort_values(by='B')\n",
    "print(sorted_df,'\\n') # 按'B'列的值进行排序"
   ]
  },
  {
   "cell_type": "markdown",
   "metadata": {},
   "source": [
    "\n",
    "缺失值处理包括：\n",
    "\n",
    "##### 缺失值标记\n",
    "##### 缺失值填充\n",
    "##### 缺失值插值"
   ]
  },
  {
   "cell_type": "code",
   "execution_count": 18,
   "metadata": {},
   "outputs": [
    {
     "name": "stdout",
     "output_type": "stream",
     "text": [
      "        one       two     three\n",
      "a  0.257832  0.718863  0.136085\n",
      "b       NaN       NaN       NaN\n",
      "c  0.819180  0.082669  0.971638\n",
      "d       NaN       NaN       NaN\n",
      "e  0.730209  0.448793  0.272890\n",
      "f  0.551064  0.364964  0.882067\n",
      "g       NaN       NaN       NaN \n",
      "\n"
     ]
    }
   ],
   "source": [
    "df = pd.DataFrame(np.random.rand(4,3),index=['a','c','e','f'],columns=['one','two','three'])\n",
    "df = df.reindex(['a','b','c','d','e','f','g'])\n",
    "print(df,'\\n')"
   ]
  },
  {
   "cell_type": "code",
   "execution_count": 19,
   "metadata": {},
   "outputs": [
    {
     "name": "stdout",
     "output_type": "stream",
     "text": [
      "<bound method Series.isnull of a    0.257832\n",
      "b         NaN\n",
      "c    0.819180\n",
      "d         NaN\n",
      "e    0.730209\n",
      "f    0.551064\n",
      "g         NaN\n",
      "Name: one, dtype: float64> \n",
      "\n",
      "<bound method Series.notnull of a    0.257832\n",
      "b         NaN\n",
      "c    0.819180\n",
      "d         NaN\n",
      "e    0.730209\n",
      "f    0.551064\n",
      "g         NaN\n",
      "Name: one, dtype: float64> \n",
      "\n"
     ]
    }
   ],
   "source": [
    "print(df['one'].isnull,'\\n')\n",
    "print(df['one'].notnull,'\\n')"
   ]
  },
  {
   "cell_type": "markdown",
   "metadata": {},
   "source": [
    "用标量值替换NaN\n",
    "\n",
    "print(df.dillna(0))\n",
    "向前填充：pad/fill\n",
    "\n",
    "向后填充：bfill/backfill\n"
   ]
  },
  {
   "cell_type": "code",
   "execution_count": null,
   "metadata": {},
   "outputs": [],
   "source": [
    "\n",
    "print(df.fillna(method='pad'))\n",
    "\n",
    "print(df.fillna(method='backfill'))"
   ]
  },
  {
   "cell_type": "markdown",
   "metadata": {},
   "source": [
    "丢弃缺少的值：如过只想排除缺少的值，则使用dropna函数和axis参数。默认情况下，axis=0，如果行内的任何值是NaN，那么整行被删除"
   ]
  },
  {
   "cell_type": "code",
   "execution_count": null,
   "metadata": {},
   "outputs": [],
   "source": [
    "## 丢弃NaN值的行\n",
    "print(df.dropna())\n",
    "\n",
    "## 丢弃含NaNDE列\n",
    "print(df.dropna(axis=1))"
   ]
  }
 ],
 "metadata": {
  "kernelspec": {
   "display_name": "Python 3.10.6 ('ml')",
   "language": "python",
   "name": "python3"
  },
  "language_info": {
   "codemirror_mode": {
    "name": "ipython",
    "version": 3
   },
   "file_extension": ".py",
   "mimetype": "text/x-python",
   "name": "python",
   "nbconvert_exporter": "python",
   "pygments_lexer": "ipython3",
   "version": "3.10.6"
  },
  "orig_nbformat": 4,
  "vscode": {
   "interpreter": {
    "hash": "cf1d9465f6502f177b365be3304d09fdeffdb2bc4d9e067aaaa01fb948a8cbd7"
   }
  }
 },
 "nbformat": 4,
 "nbformat_minor": 2
}
